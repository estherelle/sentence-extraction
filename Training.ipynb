{
 "cells": [
  {
   "cell_type": "code",
   "execution_count": 4,
   "metadata": {},
   "outputs": [],
   "source": [
    "from sentence_extraction import get_sentences"
   ]
  },
  {
   "cell_type": "code",
   "execution_count": 9,
   "metadata": {},
   "outputs": [],
   "source": [
    "urls = ['https://asana.com/company',\n",
    "       'http://www.elevate-hr.com/about-us/',\n",
    "       'https://www.vettery.com/careers',\n",
    "       'https://www.simondata.com/careers']"
   ]
  },
  {
   "cell_type": "code",
   "execution_count": 10,
   "metadata": {},
   "outputs": [
    {
     "name": "stdout",
     "output_type": "stream",
     "text": [
      "https://asana.com/company\n",
      "Our Story  Elevate HR was formed in 2009 from the Dynamics AX practice of MindKey A/S, the Danish company who wrote the original Dynamics AX HCM modules under contract to Microsoft. Our legacy of delivering exceptional service and results to global Dynamics AX HCM clients since the software platform’s inception in 1998 anchors our status as the world's top partner for Microsoft Dynamics 365 for Talent, as well as for Finance & Operations HCM solutions. A History of Microsoft Dynamics ©   365 + Elevate HR, Inc  Our Relationship with Microsoft Elevate HR’s heritage as developer of the original HCM modules in Dynamics 365, from the product’s inception as Axapta through its Dynamics AX years, gives us both a long history and a close ongoing relationship with Microsoft. We share a mission to empower all people, and deliver tools to help your talent achieve the very best. Our Role as An ISV Elevate HR is an Independent Software Vendor (ISV), emblematic of Microsoft’s ISV strategy. Microsoft Dynamics is global in capability, broad in application, advanced in its technical core, and fully integrated with the entire Microsoft technology stack. The Elevate HR Difference  Elevate HR is known for the unrivalled quality and precision of its software products and for the unparalleled depth of our knowledge in Human Resource and Payroll business processes, Human Capital Management Technology, and Business Transformation. We work directly with Customers to implement the full HCM solution, and also deliver support to our Microsoft Partners as \"the Partner's Partner\" for all HCM solutions. We remain closely aligned with Microsoft on product development to ensure that our offering adds value over the long run, that our products are current with Dynamics 365 for Talent, and for Finance & Operations updates and releases, and that we remain focused on our customers’ needs for Dynamics 365 HCM software products. Our Values  Our  values of Teamwork, Honesty, Respect, Communication, and Loyalty describe how  we work with our customers, and with each other. We work together with  you, tell it like it is, treat everyone as we expect to be treated, share  information you need to know, and earn your loyalty. Our Culture Elevate HR reinforces its storied legacy and trusted brand with a  vibrant start-up culture. Every member  of the Elevate HR team receives license to realize the full range of their  talent, push boundaries and drive our business forward in exciting, unexpected  directions. We Are Unique We revolutionize traditional Human Resources with invigorating resources  for  humans. Elevate HR solutions and services are designed with you in mind, to enhance and conserve  your  two most valuable resources: talent and time. How We Think & Who We Are We are all colleagues at Elevate HR. From our  product designers and software engineers to our consultants, solutions  architects, and administrative staff, everyone here and everyone we hire are  dynamic contributors to our values and our successes. About David Erickson, Founder + CEO  David M. Erickson, CEO, Elevate HR, Incorporated has spent the past 30 years in strategic, senior executive roles in HR technology, operations, business transformation, and development. He served as CEO of MindKey Global A/S prior to founding Elevate HR in 2009. David played central leadership roles at Pfizer, Bristol-Myers Squibb, and Honeywell International, through three of the largest corporate mergers in history. He has advised senior business leaders on business transformation, Human Resources strategy and solutions for companies as varied as Hewlett-Packard, Lucent, the United Nations, and Wachovia. David is a frequent conference speaker, and has been invited by IHRIM, SHRM and other professional societies and industry consortiums in Europe, Asia, and North America to speak on such topics as shared services, human capital analytics, HR technology, enterprise portals, and business transformation. How can we help you. CONTACT US Shop. Toggle navigation  Privacy Policy  Resources  Solutions  .\n",
      "==========================\n",
      "\n",
      "\n",
      "http://www.elevate-hr.com/about-us/\n",
      "Our Story  Elevate HR was formed in 2009 from the Dynamics AX practice of MindKey A/S, the Danish company who wrote the original Dynamics AX HCM modules under contract to Microsoft. Our legacy of delivering exceptional service and results to global Dynamics AX HCM clients since the software platform’s inception in 1998 anchors our status as the world's top partner for Microsoft Dynamics 365 for Talent, as well as for Finance & Operations HCM solutions. A History of Microsoft Dynamics ©   365 + Elevate HR, Inc  Our Relationship with Microsoft Elevate HR’s heritage as developer of the original HCM modules in Dynamics 365, from the product’s inception as Axapta through its Dynamics AX years, gives us both a long history and a close ongoing relationship with Microsoft. We share a mission to empower all people, and deliver tools to help your talent achieve the very best. Our Role as An ISV Elevate HR is an Independent Software Vendor (ISV), emblematic of Microsoft’s ISV strategy. Microsoft Dynamics is global in capability, broad in application, advanced in its technical core, and fully integrated with the entire Microsoft technology stack. The Elevate HR Difference  Elevate HR is known for the unrivalled quality and precision of its software products and for the unparalleled depth of our knowledge in Human Resource and Payroll business processes, Human Capital Management Technology, and Business Transformation. We work directly with Customers to implement the full HCM solution, and also deliver support to our Microsoft Partners as \"the Partner's Partner\" for all HCM solutions. We remain closely aligned with Microsoft on product development to ensure that our offering adds value over the long run, that our products are current with Dynamics 365 for Talent, and for Finance & Operations updates and releases, and that we remain focused on our customers’ needs for Dynamics 365 HCM software products. Our Values  Our  values of Teamwork, Honesty, Respect, Communication, and Loyalty describe how  we work with our customers, and with each other. We work together with  you, tell it like it is, treat everyone as we expect to be treated, share  information you need to know, and earn your loyalty. Our Culture Elevate HR reinforces its storied legacy and trusted brand with a  vibrant start-up culture. Every member  of the Elevate HR team receives license to realize the full range of their  talent, push boundaries and drive our business forward in exciting, unexpected  directions. We Are Unique We revolutionize traditional Human Resources with invigorating resources  for  humans. Elevate HR solutions and services are designed with you in mind, to enhance and conserve  your  two most valuable resources: talent and time. How We Think & Who We Are We are all colleagues at Elevate HR. From our  product designers and software engineers to our consultants, solutions  architects, and administrative staff, everyone here and everyone we hire are  dynamic contributors to our values and our successes. About David Erickson, Founder + CEO  David M. Erickson, CEO, Elevate HR, Incorporated has spent the past 30 years in strategic, senior executive roles in HR technology, operations, business transformation, and development. He served as CEO of MindKey Global A/S prior to founding Elevate HR in 2009. David played central leadership roles at Pfizer, Bristol-Myers Squibb, and Honeywell International, through three of the largest corporate mergers in history. He has advised senior business leaders on business transformation, Human Resources strategy and solutions for companies as varied as Hewlett-Packard, Lucent, the United Nations, and Wachovia. David is a frequent conference speaker, and has been invited by IHRIM, SHRM and other professional societies and industry consortiums in Europe, Asia, and North America to speak on such topics as shared services, human capital analytics, HR technology, enterprise portals, and business transformation. How can we help you. CONTACT US Shop. Toggle navigation  Privacy Policy  Resources  Solutions  .\n",
      "==========================\n",
      "\n",
      "\n",
      "https://www.vettery.com/careers\n",
      "Our Story  Elevate HR was formed in 2009 from the Dynamics AX practice of MindKey A/S, the Danish company who wrote the original Dynamics AX HCM modules under contract to Microsoft. Our legacy of delivering exceptional service and results to global Dynamics AX HCM clients since the software platform’s inception in 1998 anchors our status as the world's top partner for Microsoft Dynamics 365 for Talent, as well as for Finance & Operations HCM solutions. A History of Microsoft Dynamics ©   365 + Elevate HR, Inc  Our Relationship with Microsoft Elevate HR’s heritage as developer of the original HCM modules in Dynamics 365, from the product’s inception as Axapta through its Dynamics AX years, gives us both a long history and a close ongoing relationship with Microsoft. We share a mission to empower all people, and deliver tools to help your talent achieve the very best. Our Role as An ISV Elevate HR is an Independent Software Vendor (ISV), emblematic of Microsoft’s ISV strategy. Microsoft Dynamics is global in capability, broad in application, advanced in its technical core, and fully integrated with the entire Microsoft technology stack. The Elevate HR Difference  Elevate HR is known for the unrivalled quality and precision of its software products and for the unparalleled depth of our knowledge in Human Resource and Payroll business processes, Human Capital Management Technology, and Business Transformation. We work directly with Customers to implement the full HCM solution, and also deliver support to our Microsoft Partners as \"the Partner's Partner\" for all HCM solutions. We remain closely aligned with Microsoft on product development to ensure that our offering adds value over the long run, that our products are current with Dynamics 365 for Talent, and for Finance & Operations updates and releases, and that we remain focused on our customers’ needs for Dynamics 365 HCM software products. Our Values  Our  values of Teamwork, Honesty, Respect, Communication, and Loyalty describe how  we work with our customers, and with each other. We work together with  you, tell it like it is, treat everyone as we expect to be treated, share  information you need to know, and earn your loyalty. Our Culture Elevate HR reinforces its storied legacy and trusted brand with a  vibrant start-up culture. Every member  of the Elevate HR team receives license to realize the full range of their  talent, push boundaries and drive our business forward in exciting, unexpected  directions. We Are Unique We revolutionize traditional Human Resources with invigorating resources  for  humans. Elevate HR solutions and services are designed with you in mind, to enhance and conserve  your  two most valuable resources: talent and time. How We Think & Who We Are We are all colleagues at Elevate HR. From our  product designers and software engineers to our consultants, solutions  architects, and administrative staff, everyone here and everyone we hire are  dynamic contributors to our values and our successes. About David Erickson, Founder + CEO  David M. Erickson, CEO, Elevate HR, Incorporated has spent the past 30 years in strategic, senior executive roles in HR technology, operations, business transformation, and development. He served as CEO of MindKey Global A/S prior to founding Elevate HR in 2009. David played central leadership roles at Pfizer, Bristol-Myers Squibb, and Honeywell International, through three of the largest corporate mergers in history. He has advised senior business leaders on business transformation, Human Resources strategy and solutions for companies as varied as Hewlett-Packard, Lucent, the United Nations, and Wachovia. David is a frequent conference speaker, and has been invited by IHRIM, SHRM and other professional societies and industry consortiums in Europe, Asia, and North America to speak on such topics as shared services, human capital analytics, HR technology, enterprise portals, and business transformation. How can we help you. CONTACT US Shop. Toggle navigation  Privacy Policy  Resources  Solutions  .\n",
      "==========================\n",
      "\n",
      "\n",
      "https://www.simondata.com/careers\n",
      "Our Story  Elevate HR was formed in 2009 from the Dynamics AX practice of MindKey A/S, the Danish company who wrote the original Dynamics AX HCM modules under contract to Microsoft. Our legacy of delivering exceptional service and results to global Dynamics AX HCM clients since the software platform’s inception in 1998 anchors our status as the world's top partner for Microsoft Dynamics 365 for Talent, as well as for Finance & Operations HCM solutions. A History of Microsoft Dynamics ©   365 + Elevate HR, Inc  Our Relationship with Microsoft Elevate HR’s heritage as developer of the original HCM modules in Dynamics 365, from the product’s inception as Axapta through its Dynamics AX years, gives us both a long history and a close ongoing relationship with Microsoft. We share a mission to empower all people, and deliver tools to help your talent achieve the very best. Our Role as An ISV Elevate HR is an Independent Software Vendor (ISV), emblematic of Microsoft’s ISV strategy. Microsoft Dynamics is global in capability, broad in application, advanced in its technical core, and fully integrated with the entire Microsoft technology stack. The Elevate HR Difference  Elevate HR is known for the unrivalled quality and precision of its software products and for the unparalleled depth of our knowledge in Human Resource and Payroll business processes, Human Capital Management Technology, and Business Transformation. We work directly with Customers to implement the full HCM solution, and also deliver support to our Microsoft Partners as \"the Partner's Partner\" for all HCM solutions. We remain closely aligned with Microsoft on product development to ensure that our offering adds value over the long run, that our products are current with Dynamics 365 for Talent, and for Finance & Operations updates and releases, and that we remain focused on our customers’ needs for Dynamics 365 HCM software products. Our Values  Our  values of Teamwork, Honesty, Respect, Communication, and Loyalty describe how  we work with our customers, and with each other. We work together with  you, tell it like it is, treat everyone as we expect to be treated, share  information you need to know, and earn your loyalty. Our Culture Elevate HR reinforces its storied legacy and trusted brand with a  vibrant start-up culture. Every member  of the Elevate HR team receives license to realize the full range of their  talent, push boundaries and drive our business forward in exciting, unexpected  directions. We Are Unique We revolutionize traditional Human Resources with invigorating resources  for  humans. Elevate HR solutions and services are designed with you in mind, to enhance and conserve  your  two most valuable resources: talent and time. How We Think & Who We Are We are all colleagues at Elevate HR. From our  product designers and software engineers to our consultants, solutions  architects, and administrative staff, everyone here and everyone we hire are  dynamic contributors to our values and our successes. About David Erickson, Founder + CEO  David M. Erickson, CEO, Elevate HR, Incorporated has spent the past 30 years in strategic, senior executive roles in HR technology, operations, business transformation, and development. He served as CEO of MindKey Global A/S prior to founding Elevate HR in 2009. David played central leadership roles at Pfizer, Bristol-Myers Squibb, and Honeywell International, through three of the largest corporate mergers in history. He has advised senior business leaders on business transformation, Human Resources strategy and solutions for companies as varied as Hewlett-Packard, Lucent, the United Nations, and Wachovia. David is a frequent conference speaker, and has been invited by IHRIM, SHRM and other professional societies and industry consortiums in Europe, Asia, and North America to speak on such topics as shared services, human capital analytics, HR technology, enterprise portals, and business transformation. How can we help you. CONTACT US Shop. Toggle navigation  Privacy Policy  Resources  Solutions  .\n",
      "==========================\n",
      "\n",
      "\n"
     ]
    }
   ],
   "source": [
    "for url in urls:\n",
    "    text, _ = get_sentences(url)\n",
    "    print(url)\n",
    "    print(text)\n",
    "    print('==========================\\n\\n')"
   ]
  },
  {
   "cell_type": "code",
   "execution_count": 11,
   "metadata": {},
   "outputs": [],
   "source": [
    "import requests\n",
    "from bs4 import BeautifulSoup\n",
    "r = requests.get(\"http://www.elevate-hr.com/about-us/\")\n",
    "s = BeautifulSoup(r.text, \"lxml\")"
   ]
  },
  {
   "cell_type": "code",
   "execution_count": null,
   "metadata": {},
   "outputs": [],
   "source": []
  }
 ],
 "metadata": {
  "kernelspec": {
   "display_name": "Python [conda env:py36]",
   "language": "python",
   "name": "conda-env-py36-py"
  },
  "language_info": {
   "codemirror_mode": {
    "name": "ipython",
    "version": 3
   },
   "file_extension": ".py",
   "mimetype": "text/x-python",
   "name": "python",
   "nbconvert_exporter": "python",
   "pygments_lexer": "ipython3",
   "version": "3.6.6"
  }
 },
 "nbformat": 4,
 "nbformat_minor": 2
}
