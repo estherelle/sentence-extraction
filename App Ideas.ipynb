{
 "cells": [
  {
   "cell_type": "markdown",
   "metadata": {},
   "source": [
    "Some ideas that I'm interested in:\n",
    "  - crawling through a home webpage to extract the mission/values of the company\n",
    "  - see if Glassdoor has an API that can be leveraged\n",
    "  - Main items: extract values and mission statement, some key items from the press on new innovations that answer the question: \"Why Company X?\"\n",
    "\n",
    "# Exploration of Cover Letter Idea\n",
    "Looking into parsing out most relevant sentences from Asana's company page as a starting example: https://asana.com/company"
   ]
  },
  {
   "cell_type": "code",
   "execution_count": 2,
   "metadata": {},
   "outputs": [],
   "source": [
    "import requests\n",
    "from bs4 import BeautifulSoup\n",
    "import re\n",
    "import newspaper\n",
    "from collections import OrderedDict"
   ]
  },
  {
   "cell_type": "markdown",
   "metadata": {},
   "source": [
    "### Parsed Keywords\n",
    "\n",
    "#### About Keywords\n",
    "These are the ones that discuss what the company is along with its values/mission.\n",
    "\n",
    "#### Press Keywords\n",
    "This parses through some of the latest press to gather some key information on their latest developments.\n",
    "\n",
    "## Scraping home page for relevant subpages"
   ]
  },
  {
   "cell_type": "code",
   "execution_count": 3,
   "metadata": {},
   "outputs": [],
   "source": [
    "about_keywords = ['about', 'jobs', 'career', 'value', 'culture', 'mission', 'company']"
   ]
  },
  {
   "cell_type": "code",
   "execution_count": 4,
   "metadata": {},
   "outputs": [],
   "source": [
    "press_keywords = ['press', 'news', 'latest']"
   ]
  },
  {
   "cell_type": "code",
   "execution_count": 5,
   "metadata": {},
   "outputs": [],
   "source": [
    "glassdoor = 'glassdoor'\n",
    "blog = 'blog'"
   ]
  },
  {
   "cell_type": "code",
   "execution_count": 6,
   "metadata": {},
   "outputs": [],
   "source": [
    "asana = \"https://asana.com/\""
   ]
  },
  {
   "cell_type": "code",
   "execution_count": 7,
   "metadata": {},
   "outputs": [],
   "source": [
    "r = requests.get(asana)"
   ]
  },
  {
   "cell_type": "code",
   "execution_count": 8,
   "metadata": {},
   "outputs": [],
   "source": [
    "c = r.content\n",
    "soup = BeautifulSoup(c, \"lxml\")"
   ]
  },
  {
   "cell_type": "code",
   "execution_count": 9,
   "metadata": {},
   "outputs": [],
   "source": [
    "links = soup.findAll(\"a\")\n",
    "about_urls = []\n",
    "for link in links:\n",
    "    try:\n",
    "        url = link['href']\n",
    "#         print(url)\n",
    "        if url:\n",
    "            for about in about_keywords:\n",
    "                if about in url:\n",
    "                    about_urls.append(url)\n",
    "    except:\n",
    "        pass"
   ]
  },
  {
   "cell_type": "code",
   "execution_count": 10,
   "metadata": {},
   "outputs": [
    {
     "data": {
      "text/plain": [
       "['/jobs', '/company', '/jobs']"
      ]
     },
     "execution_count": 10,
     "metadata": {},
     "output_type": "execute_result"
    }
   ],
   "source": [
    "about_urls"
   ]
  },
  {
   "cell_type": "code",
   "execution_count": 11,
   "metadata": {},
   "outputs": [],
   "source": [
    "filtered_about = list(OrderedDict.fromkeys(about_urls))"
   ]
  },
  {
   "cell_type": "code",
   "execution_count": 12,
   "metadata": {},
   "outputs": [
    {
     "data": {
      "text/plain": [
       "['/jobs', '/company']"
      ]
     },
     "execution_count": 12,
     "metadata": {},
     "output_type": "execute_result"
    }
   ],
   "source": [
    "filtered_about"
   ]
  },
  {
   "cell_type": "code",
   "execution_count": 13,
   "metadata": {},
   "outputs": [],
   "source": [
    "full_about = []\n",
    "for url in filtered_about:\n",
    "    if url[0] == '/':\n",
    "        full_about.append(asana + url[1:])"
   ]
  },
  {
   "cell_type": "code",
   "execution_count": 127,
   "metadata": {},
   "outputs": [
    {
     "data": {
      "text/plain": [
       "['https://asana.com/jobs', 'https://asana.com/company']"
      ]
     },
     "execution_count": 127,
     "metadata": {},
     "output_type": "execute_result"
    }
   ],
   "source": [
    "# The scraped child pages that I am interested in if I want to learn about the company\n",
    "full_about"
   ]
  },
  {
   "cell_type": "code",
   "execution_count": 128,
   "metadata": {},
   "outputs": [],
   "source": [
    "# from newspaper import Article\n",
    "\n",
    "# article = Article(full_about[0])\n",
    "\n",
    "# article.download()\n",
    "\n",
    "# article.parse()\n",
    "\n",
    "# article.html"
   ]
  },
  {
   "cell_type": "markdown",
   "metadata": {},
   "source": [
    "## Exploration of Asana's company page\n",
    "http://asana.com/company\n",
    "\n",
    "Output of the page has been suppressed for readability. These next cells clean through the data."
   ]
  },
  {
   "cell_type": "code",
   "execution_count": 129,
   "metadata": {},
   "outputs": [],
   "source": [
    "request = requests.get(full_about[1])"
   ]
  },
  {
   "cell_type": "code",
   "execution_count": 130,
   "metadata": {},
   "outputs": [],
   "source": [
    "s = BeautifulSoup(request.text, \"lxml\")"
   ]
  },
  {
   "cell_type": "code",
   "execution_count": 131,
   "metadata": {},
   "outputs": [],
   "source": [
    "bod = s.find('body')"
   ]
  },
  {
   "cell_type": "code",
   "execution_count": 132,
   "metadata": {},
   "outputs": [],
   "source": [
    "bod.text;"
   ]
  },
  {
   "cell_type": "code",
   "execution_count": 133,
   "metadata": {},
   "outputs": [],
   "source": [
    "bod_sub = re.sub(r'\\n(\\t|\\n|\\s)*', '\\n',bod.text)"
   ]
  },
  {
   "cell_type": "code",
   "execution_count": 134,
   "metadata": {},
   "outputs": [],
   "source": [
    "bod_sub;"
   ]
  },
  {
   "cell_type": "code",
   "execution_count": 135,
   "metadata": {},
   "outputs": [],
   "source": [
    "# nlp = spacy.load('en')"
   ]
  },
  {
   "cell_type": "code",
   "execution_count": 136,
   "metadata": {},
   "outputs": [],
   "source": [
    "# import pytextrank\n",
    "# import sys"
   ]
  },
  {
   "cell_type": "code",
   "execution_count": 137,
   "metadata": {},
   "outputs": [],
   "source": [
    "regex = re.compile(r'.\\s+')"
   ]
  },
  {
   "cell_type": "code",
   "execution_count": 138,
   "metadata": {},
   "outputs": [],
   "source": [
    "bod_stripped = bod_sub.replace('.\\n', '. ')"
   ]
  },
  {
   "cell_type": "code",
   "execution_count": 139,
   "metadata": {},
   "outputs": [],
   "source": [
    "stripped_newlines = bod_stripped.replace('\\n', '. ')"
   ]
  },
  {
   "cell_type": "code",
   "execution_count": 140,
   "metadata": {},
   "outputs": [],
   "source": [
    "stripped_newlines = stripped_newlines.strip()\n",
    "stripped_newlines;"
   ]
  },
  {
   "cell_type": "code",
   "execution_count": 141,
   "metadata": {},
   "outputs": [],
   "source": [
    "stripped = stripped_newlines.split('. ')"
   ]
  },
  {
   "cell_type": "code",
   "execution_count": 142,
   "metadata": {},
   "outputs": [],
   "source": [
    "stripped = [(strip + '.') for strip in stripped]"
   ]
  },
  {
   "cell_type": "code",
   "execution_count": 143,
   "metadata": {},
   "outputs": [],
   "source": [
    "stripped_arr = []\n",
    "\n",
    "for strip in stripped:\n",
    "    if \"function\" not in strip:\n",
    "        stripped_arr.append(strip)\n",
    "        "
   ]
  },
  {
   "cell_type": "code",
   "execution_count": 144,
   "metadata": {},
   "outputs": [],
   "source": [
    "stripped_arr;"
   ]
  },
  {
   "cell_type": "markdown",
   "metadata": {},
   "source": [
    "### Cleaning out sentences with fewer than 3 words."
   ]
  },
  {
   "cell_type": "code",
   "execution_count": 145,
   "metadata": {},
   "outputs": [],
   "source": [
    "cleaned = []\n",
    "for sentence in stripped_arr:\n",
    "    stripped = sentence.split(' ')\n",
    "    if len(stripped) > 3:\n",
    "        cleaned.append(sentence)"
   ]
  },
  {
   "cell_type": "markdown",
   "metadata": {},
   "source": [
    "### Key question: How do I score the sentences for relevancy?"
   ]
  },
  {
   "cell_type": "code",
   "execution_count": 146,
   "metadata": {},
   "outputs": [
    {
     "data": {
      "text/plain": [
       "['We use cookies to give you the best possible experience on our website.',\n",
       " 'By continuing to browse this site, you give consent for cookies to be used.',\n",
       " 'For more details, please read our Cookie Policy.',\n",
       " 'We’re empowering teams to do great things together.',\n",
       " 'Asana’s mission is to help humanity thrive by enabling all teams to work together effortlessly.',\n",
       " 'We’re changing how teams work together.',\n",
       " 'Think back to the last time you were deep in the zone—time flew by and the work flowed through you almost effortlessly.',\n",
       " 'That’s how working together should be.',\n",
       " 'Instead, information is scattered and responsibilities are unclear.',\n",
       " 'We try to cut through the chaos with endless meetings and micromanagement, but we end up with less time and not much more clarity.',\n",
       " 'Work shouldn’t be chaos.',\n",
       " 'At Asana, we’re building a place where everything from the most immediate details to the big picture are organized.',\n",
       " 'With Asana, each person knows what they should be doing and why.',\n",
       " 'This clarity, transparency, and focus allows teams to collaborate with less friction and produce great results.We believe coordination should be as effortless between people as it is between our own brains and bodies, that people should be appreciated, and love what they do.',\n",
       " 'By empowering all teams to work together, we help humanity thrive.',\n",
       " 'Get to know Asana.',\n",
       " 'We stay connected through our shared mission and values.',\n",
       " 'Focus on our mission.',\n",
       " 'We continually ground in why we’re building Asana: to help all teams work together effortlessly.',\n",
       " 'We attempt to establish a direct line between that purpose and our day-to-day work.',\n",
       " 'We answer strategic conflicts by asking the question: which choice maximizes the success of our mission?.',\n",
       " 'Embrace mindfulness and equanimity.',\n",
       " 'We start with awareness.',\n",
       " 'We let go of stories we’re telling ourselves about heroes, victims, and villains, and we accept wherever we are.',\n",
       " 'We reflect on our past experiences and we act intentionally.',\n",
       " 'Practice balance in all things, including balance.',\n",
       " 'Though it is tempting to pick an extreme point of view or compromise between two poles, the best outcomes often require incorporating elements of each extreme or, better yet, transcending them altogether through synthesis.',\n",
       " 'Clarify who’s doing what by when, how, and why.',\n",
       " 'A fundamental problem with modern work is that too much time is spent trying to figure out what’s going on.',\n",
       " 'We try to make it as easy as possible for teams to have the information they need to excel at their work.',\n",
       " 'Take and give full responsibility.',\n",
       " 'Asana is an experiment in the idea that the responsibility should be distributed among a great team of peers that respect and trust each other, so we proactively build relationships and seek to understand each other.',\n",
       " 'We let go when we’re not the Directly Responsible Individual, and we take action when we are.',\n",
       " 'We empower each other.',\n",
       " 'Be real with yourself and others.',\n",
       " 'We take our commitments to each other seriously.',\n",
       " 'We admit when we’re wrong.',\n",
       " 'We treat ourselves as whole people at work.',\n",
       " 'We feel our feelings all the way through and we’re not afraid to give constructive feedback or disagree.',\n",
       " 'Create and play together.',\n",
       " 'We are co-creating Asana together, and we’re playful while we do it.',\n",
       " 'We maintain an attitude of curiosity, fearlessness, and creativity around tough problems.',\n",
       " 'We embrace failure as learning and celebrate iteration.',\n",
       " 'We don’t hide from our quirks.',\n",
       " 'We appreciate each other and don’t take success for granted.',\n",
       " 'We’re all about results.',\n",
       " 'We’re building a product that empowers teams to track their work—and produce great results.',\n",
       " 'See how it works.',\n",
       " 'We’re proud of what we’ve achieved—Asana is already one of the fastest-growing SaaS companies ever.',\n",
       " 'See what people are saying.',\n",
       " 'We’re even more proud of what our customers have accomplished with Asana, and we’re excited to empower new teams every day.',\n",
       " 'See what teams do with Asana.',\n",
       " 'Let’s do great things together.',\n",
       " 'Asana is the easiest way for teams to track their projects and tasks, so they can get results.',\n",
       " 'Mission to the Moon.',\n",
       " 'Help your team hit their deadlines.',\n",
       " 'Attach files to your work.',\n",
       " 'View work at a glance.',\n",
       " 'Work on the go.',\n",
       " 'Run successful programs, every time.',\n",
       " 'Map out each step.',\n",
       " 'Know who’s got the ball.',\n",
       " 'Store work in one place.',\n",
       " 'Track dates and milestones.',\n",
       " 'See what’s on track, and what isn’t.',\n",
       " 'Stay connected, wherever you are.',\n",
       " 'Determine the right point person.',\n",
       " 'Make a plan to hit your goals.',\n",
       " 'Share info and give updates.',\n",
       " 'Keep an eye on important dates.',\n",
       " 'Stay in the loop.',\n",
       " 'Get ready for the mission.',\n",
       " 'Know who’s in charge.',\n",
       " 'Map out each step.',\n",
       " 'Make sure all systems are a go.',\n",
       " 'Tie it all together.',\n",
       " 'Keep your eye on the prize.',\n",
       " '3, 2, 1… blastoff!.',\n",
       " 'Set clear tasks and milestones to give your team clarity on what needs to be done.',\n",
       " 'Help your team hit their deadlines.',\n",
       " 'Let each marketer know exactly what work they’re responsible for with clear assignees and due dates.',\n",
       " 'Map out your campaign plan to visualize how all the pieces fit together, spot potential issues, and keep work on track.',\n",
       " 'Ask questions or give updates with the work that’s being done, so conversations turn into actions.',\n",
       " 'Attach files to your work.',\n",
       " 'Tie shared docs, design files, and budget spreadsheets together so your team isn’t searching for info.',\n",
       " 'View work at a glance.',\n",
       " 'Look at work on a calendar to keep an eye on timing and rally around important dates.',\n",
       " 'Keep up to date on project progress and quickly spot when things are off track.',\n",
       " 'Work on the go.',\n",
       " 'Whether you’re meeting with a vendor, at a conference, or out of office, stay connected with Asana for mobile.',\n",
       " 'Run successful programs, every time.',\n",
       " 'Asana helps marketing teams plan, manage, track, and launch initiatives that engage their audience.',\n",
       " 'Map out each step.',\n",
       " 'Map out critical steps—from development to launch—so everyone has clarity on the  roadmap.',\n",
       " 'Know who’s got the ball.',\n",
       " 'Give clear owners and due dates for each piece of the launch, so you can release on   time.',\n",
       " 'See how the pieces of your plan fit together so you can make adjustments and keep work on track.',\n",
       " 'Make sure important updates and conversations don’t get buried in email threads by connecting them to your work.',\n",
       " 'Store work in one place.',\n",
       " 'Attach files to your project, so everyone knows where to find the correct info.',\n",
       " 'Track dates and milestones.',\n",
       " 'Keep an eye on important dates by viewing launch plans on a calendar.',\n",
       " 'See what’s on track, and what isn’t.',\n",
       " 'See how work is progressing to make sure you’re on track to hit your deadlines and  goals.',\n",
       " 'Stay connected, wherever you are.',\n",
       " 'Stay up to date on how your launch is progressing no matter where you are with Asana for  mobile.',\n",
       " 'Asana helps product teams hit deadlines—so they can launch great products.',\n",
       " 'Create tasks for each goal so everyone has visibility into company-wide objectives.',\n",
       " 'Determine the right point person.',\n",
       " 'Assign each goal to the appropriate person, so everyone knows who’s responsible, and who to go to with questions.',\n",
       " 'Make a plan to hit your goals.',\n",
       " 'See how each milestone ladders up to your goals so you can feel confident you’ll hit your targets.',\n",
       " 'Share info and give updates.',\n",
       " 'Keep stakeholders up to date on the latest info and progress, with updates and comments tied directly to your goals.',\n",
       " 'Integrate Asana with your file sharing tools to keep all your important docs in one place.',\n",
       " 'Keep an eye on important dates.',\n",
       " 'Look at your initiative deadlines and milestones on a calendar to make sure you’ve nailed the timing.',\n",
       " 'Understand what objectives are on track, and what needs your attention so you can hit your goals.',\n",
       " 'Stay in the loop.',\n",
       " 'Get updates and weigh in on important decisions wherever you are, with Asana for mobile.',\n",
       " 'Asana gives your team visibility into your organization’s goals, so everyone stays focused on what matters most.',\n",
       " 'Get ready for the mission.',\n",
       " 'Map out each step of your mission, so you don’t forget anything as you shoot for the stars.',\n",
       " 'Know who’s in charge.',\n",
       " 'Assign clear owners for each task, so your pilot, commander, and flight engineer know what they need to do.',\n",
       " 'Map out each step.',\n",
       " 'Create a launch plan so you can chart your course from start to finish, share it with your team, and modify it as conditions change.',\n",
       " 'Make sure all systems are a go.',\n",
       " 'Ask important questions, have conversations, and give status updates to get your crew ready for launch day.',\n",
       " 'Tie it all together.',\n",
       " 'Connect Asana to the other tools you need for your mission, so all your information lives in the same place.',\n",
       " 'Keep your eye on the prize.',\n",
       " 'View each milestone on a calendar, so you can track important dates leading up to takeoff.',\n",
       " 'See what’s on track, and what isn’t, so you can be sure you’re ready for launch day.',\n",
       " 'Keep up to date whether you’re in the office or on the moon, just make sure you have internet connection!.',\n",
       " '3, 2, 1… blastoff!.',\n",
       " 'With Asana, your crew can shoot for the moon, and get there.',\n",
       " 'All it takes is one small step….',\n",
       " 'Don’t have an account? Sign up.',\n",
       " 'Please use your work email address, so we can connect you with your team in Asana.',\n",
       " 'By signing up, I agree to the Asana Privacy Policy and Terms of Service.',\n",
       " 'Try Asana Premium for free.',\n",
       " 'Teams report that Asana Premium increases their team’s efficiency by 45%.',\n",
       " 'Try it free for 30 days to get access to more powerful features that help you hit your goals.',\n",
       " 'Please use your work email address, so we can connect you with your team in Asana.',\n",
       " 'By signing up, I agree to the Asana Privacy Policy and Terms of Service.',\n",
       " 'Start your free trial.',\n",
       " 'Please use your work email address so we can connect you with your team in Asana.',\n",
       " 'Already using Asana?\\u2028Log in to activate your free trial of Asana Premium.',\n",
       " 'By signing up, I agree to the Asana Privacy Policy and Terms of Service.',\n",
       " 'Start your free trial.',\n",
       " 'Please use your work email address so we can connect you with your team in Asana.',\n",
       " 'By signing up, I agree to the Asana Privacy Policy and Terms of Service.',\n",
       " 'Please use your work email address, so we can connect you with your team in Asana.',\n",
       " 'By signing up, I agree to the Asana Privacy Policy and Terms of Service.',\n",
       " 'Enter a work email address.',\n",
       " 'This email looks like a personal email address.',\n",
       " 'If you want to be connected with your team, please use your work email address.',\n",
       " 'Enter a work email address.',\n",
       " 'Continue with my email.',\n",
       " 'Why are we asking?.',\n",
       " 'Asana is built for teams to track their work, and the only way to auto-connect with other people in your company is by signing up with your work email address.',\n",
       " 'Oops, we couldn’t sign you up!.',\n",
       " 'We tried, but there was a problem creating your account.',\n",
       " 'Please close this window and try again!.',\n",
       " 'Hey there, we’ve already met!.',\n",
       " 'Looks like you already have an account.',\n",
       " 'Looks like you already have an account.',\n",
       " 'Try Asana Premium for free.',\n",
       " 'Teams report that Asana Premium increases their team’s efficiency by 45%.',\n",
       " 'Try it free for 30 days to get access to more powerful features that help you hit your goals.',\n",
       " 'Add link to workspace.',\n",
       " 'Error&colon; Please select a workspace before adding link.',\n",
       " 'Sorry, we don’t support this browser.',\n",
       " 'Asana doesn’t work with the internet browser you are currently using.',\n",
       " 'Please sign up using one of these supported browsers instead.',\n",
       " 'Please login or sign up for Asana to calculate your price.',\n",
       " 'Don’t have an account? Sign up..']"
      ]
     },
     "execution_count": 146,
     "metadata": {},
     "output_type": "execute_result"
    }
   ],
   "source": [
    "cleaned"
   ]
  },
  {
   "cell_type": "markdown",
   "metadata": {},
   "source": [
    "### Following instructions from: http://nbviewer.jupyter.org/github/charlieg/A-Smattering-of-NLP-in-Python/blob/master/A%20Smattering%20of%20NLP%20in%20Python.ipynb"
   ]
  },
  {
   "cell_type": "code",
   "execution_count": 147,
   "metadata": {},
   "outputs": [],
   "source": [
    "import nltk"
   ]
  },
  {
   "cell_type": "code",
   "execution_count": 148,
   "metadata": {},
   "outputs": [
    {
     "name": "stdout",
     "output_type": "stream",
     "text": [
      "showing info https://raw.githubusercontent.com/nltk/nltk_data/gh-pages/index.xml\n"
     ]
    },
    {
     "data": {
      "text/plain": [
       "True"
      ]
     },
     "execution_count": 148,
     "metadata": {},
     "output_type": "execute_result"
    }
   ],
   "source": [
    "nltk.download()"
   ]
  },
  {
   "cell_type": "code",
   "execution_count": 154,
   "metadata": {},
   "outputs": [
    {
     "name": "stdout",
     "output_type": "stream",
     "text": [
      "! [14]\n",
      "# [2]\n",
      "$ [86]\n",
      "% [2]\n",
      "& [17]\n",
      "'' [102]\n",
      "( [304]\n",
      ") [304]\n",
      "* [1]\n",
      "+5 [1]\n",
      "+parseInt [1]\n",
      ", [184]\n",
      ",0 [1]\n",
      ",200 [1]\n",
      ",500 [1]\n",
      "-is-active [2]\n",
      "-is-hidden [5]\n",
      "-mobile-nav-active [1]\n",
      "-no-scroll [1]\n",
      ". [96]\n",
      ".-is-hidden [1]\n",
      ".accordion [3]\n",
      ".accordion-body [5]\n",
      ".accordion-header [3]\n",
      ".accordion-row [8]\n",
      ".accordion-tab [2]\n",
      ".accordion-wrapper [3]\n",
      ".accordion-wrapper.is-active [1]\n",
      ".addClass [4]\n",
      ".animate [1]\n"
     ]
    }
   ],
   "source": [
    "tokens = [word for sent in nltk.sent_tokenize(bod.text) for word in nltk.word_tokenize(sent)]\n",
    "\n",
    "for token in sorted(set(tokens))[:30]:\n",
    "    print (token + ' [' + str(tokens.count(token)) + ']')"
   ]
  },
  {
   "cell_type": "code",
   "execution_count": 156,
   "metadata": {},
   "outputs": [
    {
     "name": "stdout",
     "output_type": "stream",
     "text": [
      ".outerheight [5]\n",
      ".parent [1]\n",
      ".prev [1]\n",
      ".readi [1]\n",
      ".reduc [1]\n",
      ".removeclass [3]\n",
      ".resiz [1]\n",
      ".setupaccordion [2]\n",
      ".signup-email-modal-buy [2]\n",
      ".signup-email-modal-buy-not-valid [1]\n",
      ".signup-email-modal-get-start [2]\n",
      ".signup-email-modal-get-started-not-valid [1]\n",
      ".signup-email-modal-signup [2]\n",
      ".signup-email-modal-signup-not-valid [1]\n",
      ".signup-email-modal-tri [4]\n",
      ".signup-email-modal-trial-not-valid [1]\n",
      ".signup-email-modal-try-not-valid [1]\n",
      ".signup-email-page-build [1]\n",
      ".signup-submit-modal-buy [1]\n",
      ".signup-submit-modal-get-start [1]\n",
      ".signup-submit-modal-signup [1]\n",
      ".signup-submit-modal-tri [2]\n",
      ".signupform [5]\n",
      ".sitehead [1]\n",
      ".supportcard-cont [1]\n"
     ]
    }
   ],
   "source": [
    "from nltk.stem.snowball import SnowballStemmer\n",
    "\n",
    "stemmer = SnowballStemmer(\"english\")\n",
    "stemmed_tokens = [stemmer.stem(t) for t in tokens]\n",
    "\n",
    "for token in sorted(set(stemmed_tokens))[50:75]:\n",
    "    print(token + ' [' + str(stemmed_tokens.count(token)) + ']')"
   ]
  },
  {
   "cell_type": "code",
   "execution_count": 157,
   "metadata": {},
   "outputs": [
    {
     "data": {
      "text/plain": [
       "['a',\n",
       " 'about',\n",
       " 'above',\n",
       " 'after',\n",
       " 'again',\n",
       " 'against',\n",
       " 'ain',\n",
       " 'all',\n",
       " 'am',\n",
       " 'an',\n",
       " 'and',\n",
       " 'any',\n",
       " 'are',\n",
       " 'aren',\n",
       " \"aren't\",\n",
       " 'as',\n",
       " 'at',\n",
       " 'be',\n",
       " 'because',\n",
       " 'been',\n",
       " 'before',\n",
       " 'being',\n",
       " 'below',\n",
       " 'between',\n",
       " 'both']"
      ]
     },
     "execution_count": 157,
     "metadata": {},
     "output_type": "execute_result"
    }
   ],
   "source": [
    "sorted(nltk.corpus.stopwords.words('english'))[:25]"
   ]
  },
  {
   "cell_type": "code",
   "execution_count": 163,
   "metadata": {},
   "outputs": [
    {
     "name": "stdout",
     "output_type": "stream",
     "text": [
      "** BEGIN ARTICLE: ** \"ASIAN EXPORTERS FEAR DAMAGE FROM U.S.-JAPAN RIFT\n",
      "  Mounting trade friction between the\n",
      "  U.S. And Japan has raised fears among many of Asia's exporting\n",
      "  nations that the row could inflict far-reaching economic\n",
      "  damage, businessmen and officials said.\n",
      "      They told Reuter correspondents in Asian capitals a U.S.\n",
      "  Move against Japan might boost protectionist sentiment in the\n",
      "  U.S. And lead to curbs on American imports of their products.\n",
      "      But some exporters said that while the conflict wo [...]\"\n"
     ]
    }
   ],
   "source": [
    "from nltk.corpus import reuters\n",
    "\n",
    "print('** BEGIN ARTICLE: ** \\\"' + reuters.raw(reuters.fileids()[0])[:500] + ' [...]\\\"')"
   ]
  },
  {
   "cell_type": "code",
   "execution_count": 164,
   "metadata": {},
   "outputs": [
    {
     "name": "stdout",
     "output_type": "stream",
     "text": [
      "building term-document matrix... [process started: 2018-08-29 16:59:21.088874]\n",
      "done! [process finished: 2018-08-29 16:59:54.348285]\n"
     ]
    }
   ],
   "source": [
    "import datetime, re, sys\n",
    "from sklearn.feature_extraction.text import TfidfVectorizer\n",
    "\n",
    "def tokenize_and_stem(text):\n",
    "    tokens = [word for sent in nltk.sent_tokenize(text) for word in nltk.word_tokenize(sent)]\n",
    "    filtered_tokens = []\n",
    "    # filter out any tokens not containing letters (e.g., numeric tokens, raw punctuation)\n",
    "    for token in tokens:\n",
    "        if re.search('[a-zA-Z]', token):\n",
    "            filtered_tokens.append(token)\n",
    "    stems = [stemmer.stem(t) for t in filtered_tokens]\n",
    "    return stems\n",
    "\n",
    "token_dict = {}\n",
    "for article in reuters.fileids():\n",
    "    token_dict[article] = reuters.raw(article)\n",
    "        \n",
    "tfidf = TfidfVectorizer(tokenizer=tokenize_and_stem, stop_words='english', decode_error='ignore')\n",
    "print('building term-document matrix... [process started: ' + str(datetime.datetime.now()) + ']')\n",
    "sys.stdout.flush()\n",
    "\n",
    "tdm = tfidf.fit_transform(token_dict.values()) # this can take some time (about 60 seconds on my machine)\n",
    "print('done! [process finished: ' + str(datetime.datetime.now()) + ']')"
   ]
  },
  {
   "cell_type": "code",
   "execution_count": 167,
   "metadata": {},
   "outputs": [
    {
     "name": "stdout",
     "output_type": "stream",
     "text": [
      "TDM contains 25833 terms and 10788 documents\n",
      "first term: 'd\n",
      "last term: zzzz\n",
      "random term: crss\n",
      "random term: iridium\n",
      "random term: mca\n",
      "random term: redempt\n"
     ]
    }
   ],
   "source": [
    "from random import randint\n",
    "\n",
    "feature_names = tfidf.get_feature_names()\n",
    "print('TDM contains ' + str(len(feature_names)) + ' terms and ' + str(tdm.shape[0]) + ' documents')\n",
    "\n",
    "print('first term: ' + feature_names[0])\n",
    "print('last term: ' + feature_names[len(feature_names) - 1])\n",
    "\n",
    "for i in range(0, 4):\n",
    "    print('random term: ' + feature_names[randint(1,len(feature_names) - 2)])"
   ]
  },
  {
   "cell_type": "code",
   "execution_count": 172,
   "metadata": {},
   "outputs": [
    {
     "name": "stdout",
     "output_type": "stream",
     "text": [
      "*** SUMMARY ***\n",
      "Mechanically separated meat is a high-protein, low-cost\n",
      "  product that has been approved for use since 1978, USDA said.\n",
      "U.S. MEAT PROCESSORS ASK FOR LABELLING CHANGE\n",
      "  Four U.S. meat processors have asked\n",
      "  the federal government to relax a labelling requirement which\n",
      "  they said discourages the use of mechanically separated meat,\n",
      "  the U.S. Agriculture Department said.\n",
      "\n",
      "*** ORIGINAL ***\n",
      "U.S. MEAT PROCESSORS ASK FOR LABELLING CHANGE\n",
      "  Four U.S. meat processors have asked\n",
      "  the federal government to relax a labelling requirement which\n",
      "  they said discourages the use of mechanically separated meat,\n",
      "  the U.S. Agriculture Department said.\n",
      "      The petition, filed by Bob Evans Farms, Odom Sausage Co,\n",
      "  Sara Lee Corp and Owens Country Sausage, asks USDA to allow\n",
      "  mechanically separated meat to be listed on product labels as\n",
      "  the species from which it was derived.\n",
      "      For example, \"pork\" would be listed on the ingredients\n",
      "  statement instead of \"mechanically separated pork.\"\n",
      "      Under the petition, the calcium content of the meat product\n",
      "  would have to be stated on the label and the mechanically\n",
      "  separated meat could constitute no more than 10 pct of the meat\n",
      "  and poultry portion of the product.\n",
      "      Mechanically separated meat is a high-protein, low-cost\n",
      "  product that has been approved for use since 1978, USDA said.\n",
      "      Current regulations allow use of mechanically separated\n",
      "  ingredients at levels up to 20 pct of the meat and poultry\n",
      "  product, but require it to be listed in the ingredient\n",
      "  statement as \"mechanically separated (species),\" USDA said.\n",
      "      USDA said the petitioning firms claimed companies avoid\n",
      "  using mechanically separated meat in their products because the\n",
      "  term carries an \"unwarranted negative connotation\" in the minds\n",
      "  of many consumers. The petitioners also noted that no similar\n",
      "  regulation exists for poultry products.\n",
      "      Mechanically separated meat is made by placing carcass\n",
      "  parts, which usually have been hand-trimmed but still have some\n",
      "  remaining meat, into specialized processing equipment.\n",
      "  \n",
      "\n",
      "\n"
     ]
    }
   ],
   "source": [
    "import math\n",
    "from __future__ import division\n",
    "\n",
    "article_id = randint(0, tdm.shape[0] - 1)\n",
    "article_text = reuters.raw(reuters.fileids()[article_id])\n",
    "\n",
    "sent_scores = []\n",
    "for sentence in nltk.sent_tokenize(article_text):\n",
    "    score = 0\n",
    "    sent_tokens = tokenize_and_stem(sentence)\n",
    "    for token in (t for t in sent_tokens if t in feature_names):\n",
    "        score += tdm[article_id, feature_names.index(token)]\n",
    "    sent_scores.append((score / len(sent_tokens), sentence))\n",
    "\n",
    "summary_length = int(math.ceil(len(sent_scores) / 5))\n",
    "sent_scores.sort(key=lambda sent: sent[0], reverse=True)\n",
    "\n",
    "print('*** SUMMARY ***')\n",
    "for summary_sentence in sent_scores[:summary_length]:\n",
    "    print(summary_sentence[1])\n",
    "\n",
    "print('\\n*** ORIGINAL ***')\n",
    "print(article_text)"
   ]
  },
  {
   "cell_type": "code",
   "execution_count": null,
   "metadata": {},
   "outputs": [],
   "source": []
  }
 ],
 "metadata": {
  "kernelspec": {
   "display_name": "Python [conda env:py36]",
   "language": "python",
   "name": "conda-env-py36-py"
  },
  "language_info": {
   "codemirror_mode": {
    "name": "ipython",
    "version": 3
   },
   "file_extension": ".py",
   "mimetype": "text/x-python",
   "name": "python",
   "nbconvert_exporter": "python",
   "pygments_lexer": "ipython3",
   "version": "3.6.6"
  }
 },
 "nbformat": 4,
 "nbformat_minor": 2
}
