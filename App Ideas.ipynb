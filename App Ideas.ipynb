{
 "cells": [
  {
   "cell_type": "markdown",
   "metadata": {},
   "source": [
    "Some ideas that I'm interested in:\n",
    "- cover letter thing\n",
    "  - crawling through a home webpage to extract the mission/values of the company\n",
    "  - see if Glassdoor has an API that can be leveraged\n",
    "  - Main items: extract values and mission statement, some key items from the press on new innovations that answer the question: \"Why Company X?\"\n",
    "\n",
    "# Exploration of Cover Letter Idea"
   ]
  },
  {
   "cell_type": "code",
   "execution_count": 2,
   "metadata": {},
   "outputs": [],
   "source": [
    "import requests\n",
    "from bs4 import BeautifulSoup\n",
    "import re\n",
    "import newspaper\n",
    "from collections import OrderedDict"
   ]
  },
  {
   "cell_type": "markdown",
   "metadata": {},
   "source": [
    "### Parsed Keywords\n",
    "\n",
    "#### About Keywords\n",
    "These are the ones that discuss what the company is along with its values/mission.\n",
    "\n",
    "#### Press Keywords\n",
    "This parses through some of the latest press to gather some key information on their latest developments."
   ]
  },
  {
   "cell_type": "code",
   "execution_count": 3,
   "metadata": {},
   "outputs": [],
   "source": [
    "about_keywords = ['about', 'jobs', 'career', 'value', 'culture', 'mission', 'company']"
   ]
  },
  {
   "cell_type": "code",
   "execution_count": 4,
   "metadata": {},
   "outputs": [],
   "source": [
    "press_keywords = ['press', 'news', 'latest']"
   ]
  },
  {
   "cell_type": "code",
   "execution_count": 5,
   "metadata": {},
   "outputs": [],
   "source": [
    "glassdoor = 'glassdoor'\n",
    "blog = 'blog'"
   ]
  },
  {
   "cell_type": "code",
   "execution_count": 6,
   "metadata": {},
   "outputs": [],
   "source": [
    "asana = \"https://asana.com/\""
   ]
  },
  {
   "cell_type": "code",
   "execution_count": 7,
   "metadata": {},
   "outputs": [],
   "source": [
    "r = requests.get(asana)"
   ]
  },
  {
   "cell_type": "code",
   "execution_count": 8,
   "metadata": {},
   "outputs": [],
   "source": [
    "c = r.content\n",
    "soup = BeautifulSoup(c, \"lxml\")"
   ]
  },
  {
   "cell_type": "code",
   "execution_count": 9,
   "metadata": {},
   "outputs": [],
   "source": [
    "links = soup.findAll(\"a\")\n",
    "about_urls = []\n",
    "for link in links:\n",
    "    try:\n",
    "        url = link['href']\n",
    "#         print(url)\n",
    "        if url:\n",
    "            for about in about_keywords:\n",
    "                if about in url:\n",
    "                    about_urls.append(url)\n",
    "    except:\n",
    "        pass"
   ]
  },
  {
   "cell_type": "code",
   "execution_count": 10,
   "metadata": {},
   "outputs": [
    {
     "data": {
      "text/plain": [
       "['/jobs', '/company', '/jobs']"
      ]
     },
     "execution_count": 10,
     "metadata": {},
     "output_type": "execute_result"
    }
   ],
   "source": [
    "about_urls"
   ]
  },
  {
   "cell_type": "code",
   "execution_count": 11,
   "metadata": {},
   "outputs": [],
   "source": [
    "filtered_about = list(OrderedDict.fromkeys(about_urls))"
   ]
  },
  {
   "cell_type": "code",
   "execution_count": 12,
   "metadata": {},
   "outputs": [
    {
     "data": {
      "text/plain": [
       "['/jobs', '/company']"
      ]
     },
     "execution_count": 12,
     "metadata": {},
     "output_type": "execute_result"
    }
   ],
   "source": [
    "filtered_about"
   ]
  },
  {
   "cell_type": "code",
   "execution_count": 13,
   "metadata": {},
   "outputs": [],
   "source": [
    "full_about = []\n",
    "for url in filtered_about:\n",
    "    if url[0] == '/':\n",
    "        full_about.append(asana + url[1:])"
   ]
  },
  {
   "cell_type": "code",
   "execution_count": 14,
   "metadata": {},
   "outputs": [
    {
     "data": {
      "text/plain": [
       "['https://asana.com/jobs', 'https://asana.com/company']"
      ]
     },
     "execution_count": 14,
     "metadata": {},
     "output_type": "execute_result"
    }
   ],
   "source": [
    "full_about"
   ]
  },
  {
   "cell_type": "code",
   "execution_count": 20,
   "metadata": {},
   "outputs": [],
   "source": [
    "from newspaper import Article\n",
    "\n",
    "article = Article(full_about[0])\n",
    "\n",
    "article.download()\n",
    "\n",
    "article.parse()\n",
    "\n",
    "article.html"
   ]
  },
  {
   "cell_type": "code",
   "execution_count": 75,
   "metadata": {},
   "outputs": [],
   "source": [
    "request = requests.get(full_about[1])"
   ]
  },
  {
   "cell_type": "code",
   "execution_count": 76,
   "metadata": {},
   "outputs": [],
   "source": [
    "s = BeautifulSoup(request.text, \"lxml\")"
   ]
  },
  {
   "cell_type": "code",
   "execution_count": 77,
   "metadata": {},
   "outputs": [],
   "source": [
    "bod = s.find('body')"
   ]
  },
  {
   "cell_type": "code",
   "execution_count": 90,
   "metadata": {},
   "outputs": [
    {
     "data": {
      "text/plain": [
       "'\\n\\n\\n\\n      We use cookies to give you the best possible experience on our website. By continuing to browse this site, you give consent for cookies to be used. For more details, please read our Cookie Policy.\\n\\n\\n\\n\\n\\n\\n\\n\\n\\n\\n\\n\\n\\n\\n\\n\\nTour\\nProduct\\nPricing\\n\\nContact Sales \\n\\n  \\n\\n\\n\\n\\n\\n\\n                              Request Info\\n                            \\n\\n\\n\\n                              View Demo\\n                            \\n\\n\\n\\n\\n\\n\\nLearn more \\n\\n  \\n\\n\\n\\n\\n\\n\\n                              Security\\n                            \\n\\n\\n\\n                              Integrations\\n                            \\n\\n\\n\\n                              Admin controls\\n                            \\n\\n\\n\\n\\n\\nLog In\\n\\n\\n\\nGet Started\\n\\n\\n Go to Asana\\n\\n\\n\\n\\n\\n\\n\\n\\n\\n\\n\\n\\n\\n\\n\\nProduct\\n\\n\\nCustomers\\n\\n\\nPricing\\n\\n\\nJobs\\n\\n\\nAsana Blog\\n\\n\\nWavelength\\n\\n\\nAsana Guide\\n\\n\\n\\nGet Started\\nLog In\\n\\n\\n\\n\\n\\n\\n\\n\\n\\n\\n\\n\\n\\n\\n\\n\\n\\n$(document).ready(function(){var e=$(\".mobileNav-toggle\");e.click(function(){$(\"html\").toggleClass(\"-no-scroll\"),e.toggleClass(\"-is-active\"),$(\".siteHeader\").toggleClass(\"-mobile-nav-active\"),$(\".mobileNav\").toggleClass(\"-is-active\")})})\\n\\n\\n\\n\\nOur Company\\nWe’re empowering teams to do great things together.\\n\\n\\n\\n\\n\\n\\n\\n\\nAsana’s mission is to help humanity thrive by enabling all teams to work together effortlessly\\n\\n\\n\\n\\n\\n\\n\\n\\n\\n\\n\\n\\n    We’re changing how teams work together\\n  \\n\\n    Think back to the last time you were deep in the zone—time flew by and the work flowed through you almost effortlessly. That’s how working together should be. Instead, information is scattered and responsibilities are unclear. We try to cut through the chaos with endless meetings and micromanagement, but we end up with less time and not much more clarity.\\n  \\n\\n\\n\\n\\n\\n\\n\\n\\n\\n\\n\\n\\n\\n\\n\\n\\n    Work shouldn’t be chaos\\n  \\n\\n    At Asana, we’re building a place where everything from the most immediate details to the big picture are organized. With Asana, each person knows what they should be doing and why. This clarity, transparency, and focus allows teams to collaborate with less friction and produce great results.We believe coordination should be as effortless between people as it is between our own brains and bodies, that people should be appreciated, and love what they do.\\n  \\n\\n\\n\\n\\n\\n\\n\\n\\n\\n\\n\\n\\n\\nBy empowering all teams to work together, we help humanity thrive.\\n\\n\\n\\n            Get to know Asana\\n          \\n\\n\\n\\n\\n\\n\\n\\n\\nWe stay connected through our shared mission and values\\n\\n\\n\\n\\n\\nFocus on our mission\\n\\n\\n\\n\\nWe continually ground in why we’re building Asana: to help all teams work together effortlessly. We attempt to establish a direct line between that purpose and our day-to-day work. We answer strategic conflicts by asking the question: which choice maximizes the success of our mission?\\n\\n\\n\\n\\n\\n\\nEmbrace mindfulness and equanimity\\n\\n\\n\\n\\nWe start with awareness. We let go of stories we’re telling ourselves about heroes, victims, and villains, and we accept wherever we are. We reflect on our past experiences and we act intentionally.\\n\\n\\n\\n\\n\\n\\nPractice balance in all things, including balance\\n\\n\\n\\n\\nThough it is tempting to pick an extreme point of view or compromise between two poles, the best outcomes often require incorporating elements of each extreme or, better yet, transcending them altogether through synthesis.\\n\\n\\n\\n\\n\\n\\nClarify who’s doing what by when, how, and why\\n\\n\\n\\n\\nA fundamental problem with modern work is that too much time is spent trying to figure out what’s going on. We try to make it as easy as possible for teams to have the information they need to excel at their work.\\n\\n\\n\\n\\n\\n\\nTake and give full responsibility\\n\\n\\n\\n\\nAsana is an experiment in the idea that the responsibility should be distributed among a great team of peers that respect and trust each other, so we proactively build relationships and seek to understand each other. We let go when we’re not the Directly Responsible Individual, and we take action when we are. We empower each other.\\n\\n\\n\\n\\n\\n\\nBe real with yourself and others\\n\\n\\n\\n\\nWe take our commitments to each other seriously. We admit when we’re wrong. We treat ourselves as whole people at work. We feel our feelings all the way through and we’re not afraid to give constructive feedback or disagree. We embrace reality.\\n\\n\\n\\n\\n\\n\\nCreate and play together\\n\\n\\n\\n\\nWe are co-creating Asana together, and we’re playful while we do it. We maintain an attitude of curiosity, fearlessness, and creativity around tough problems. We embrace failure as learning and celebrate iteration. We don’t hide from our quirks. We appreciate each other and don’t take success for granted.\\n\\n\\n\\n\\n\\n\\n\\n\\n\\n\\n\\nfunction skrollTo(o){$(\"html, body\").animate({scrollTop:$(o).offset().top-100},500)}function expandFirstAccordionItemIfEnabled(o){$(\"#first-item-opened-on-load\").val()&&o.expandItem($(o.wrappers[0]))}var delay=function(){var t=0;return function(o,i){clearTimeout(t),t=setTimeout(o,i)}}(),Accordion=function(o){this.$accordion=$(o),this.wrappers=$(this.$accordion.find(\".accordion-wrapper\")),this.initialize()};Accordion.prototype.initialize=function(o){this.setupAccordion(),this.bindClickListener()},Accordion.prototype.setupAccordion=function(){var o=this.wrappers.toArray();this.calculateOffsets(o),this.reset(),this.adjustBlockerHeight(),this.setAccordionHeight()},Accordion.prototype.calculateOffsets=function(o){o.forEach(function(o,i){var t=$(o).prev(),c=-$(t).find(\".accordion-body\").outerHeight(!0)+parseInt(t.attr(\"data-offset\"));0===$(o).index()&&(c=0),$(o).attr(\"data-offset\",c-1+\"px\")})},Accordion.prototype.reset=function(){this.wrappers.toArray().forEach(function(o,i){var t=$(o).attr(\"data-offset\");$(o).css(\"top\",t)})},Accordion.prototype.bindClickListener=function(){var o=this;this.wrappers.click(function(){o.expandItem($(this))})},Accordion.prototype.expandItem=function(o){var i=$(\".accordion-wrapper.is-active\");this.adjustAccordionSize(i,o),this.toggleActiveState(i,o),this.moveItems(i,o)},Accordion.prototype.toggleActiveState=function(o,i){if($(\".accordion .is-active\").removeClass(\"is-active\"),!o.is(i)){var t=i.toArray(),c=i.find(\"*\").toArray();t.concat(c).forEach(function(o){$(o).addClass(\"is-active\")})}},Accordion.prototype.moveItems=function(o,i){var t=i.nextAll().toArray();this.reset(),o.is(i)||this.moveDown(i,t)},Accordion.prototype.moveDown=function(o,i){var c=$(o).find(\".accordion-body\").outerHeight(!0);i.forEach(function(o,i){var t=parseInt($(o).attr(\"data-offset\"));$(o).css(\"top\",t+c)})},Accordion.prototype.adjustBlockerHeight=function(){var o=this.$accordion.find(\".accordion-wrapper:last-child\"),i=o.prev().find(\".accordion-body\").height();o.find(\".accordion-tab\").height(i)},Accordion.prototype.adjustAccordionSize=function(o,i){var t=this.$accordion.height(),c=$(i).find(\".accordion-body\").outerHeight(),r=$(o).find(\".accordion-body\").outerHeight();if(o.is(i))this.$accordion.height(t-r);else{var n=c-r;this.$accordion.height(t+n)}},Accordion.prototype.setAccordionHeight=function(){var o=this.$accordion.find(\".accordion-wrapper:not(.blocker)\").toArray().reduce(function(o,i){return o+($(i).find(\".accordion-tab\").outerHeight(!0)+5)},0);this.$accordion.height(o)},$(window).on(\"load\",function(){var c=[];$(\".accordion-row\").toArray().forEach(function(o){o=new Accordion(o);c.push(o)}),$(\".accordion-row:not(:first-of-type), .accordion-header:not(:first-of-type)\").addClass(\"-is-hidden\"),$(\".accordion a\").click(function(o){o.stopPropagation()}),expandFirstAccordionItemIfEnabled(c[0]),$(window).resize(function(){var o=$(\".accordion-row\").index($(\".accordion-row:not(.-is-hidden)\"));delay(function(){$(\".accordion .is-active\").removeClass(\"is-active\"),c[o].setupAccordion()},200)}),$(\".accordion-row\").bind(\"newAccordionShow\",function(o,i){c[i].setupAccordion()}),$(\".supportcard-content\").click(function(o){o.preventDefault();var i=$(this).parent().index(),t=$(\".accordion-row\").eq(i);$(\".accordion-row\").addClass(\"-is-hidden\"),$(\".accordion-header\").addClass(\"-is-hidden\"),t.removeClass(\"-is-hidden\"),$(\".accordion-header\").eq(i).removeClass(\"-is-hidden\"),skrollTo(\"#accordion\"),expandFirstAccordionItemIfEnabled(c[i]),$(\".accordion-row\").trigger(\"newAccordionShow\",i)})})\\n\\n\\n\\n\\n\\n\\n\\n\\n\\n\\n\\n\\n\\n\\n\\n\\n\\n\\n\\n\\n\\n\\n\\n\\n\\n\\n\\n\\n\\n\\n\\n\\n\\n\\n\\n\\n\\n\\n\\n\\n\\n\\n\\n\\n\\n\\n\\n\\n\\n\\n\\n\\n\\n\\n\\n\\n\\n\\n\\n\\n\\n\\n\\n\\n\\n\\n\\n\\n\\n\\n\\n\\n\\n\\n\\n\\n\\n\\n\\n\\n\\n\\n\\n\\n\\n\\n\\n\\n\\n\\n\\n\\n\\n\\n\\n\\n\\n\\n\\n\\n\\n\\n\\n\\n\\n\\n\\n\\n\\n\\nWe’re all about results\\n\\n\\n\\n\\n\\n\\n\\n\\n\\n\\n\\n          We’re building a product that empowers teams to track their work—and produce great results.\\n        \\n\\n          See how it works\\n        \\n\\n\\n\\n\\n\\n\\n\\n\\n\\n\\n          We’re proud of what we’ve achieved—Asana is already one of the fastest-growing SaaS companies ever.\\n        \\n\\n          See what people are saying\\n        \\n\\n\\n\\n\\n\\n\\n\\n\\n\\n\\n          We’re even more proud of what our customers have accomplished with Asana, and we’re excited to empower new teams every day.\\n        \\n\\n          See what teams do with Asana\\n        \\n\\n\\n\\n\\n\\n\\n\\n\\n\\n            Let’s do great things together\\n          \\n\\nJoin our team\\n\\n\\n\\n\\n\\n\\n\\n\\n\\n\\n\\n\\n\\n\\n\\n\\n\\n\\n\\n\\n\\n\\n\\n\\n        Explore Asana\\n      \\n\\n        Asana is the easiest way for teams to track their projects and tasks, so they can get results.\\n      \\n\\n\\n\\n\\n\\n\\n          Marketing Campaign\\n        \\n\\n\\n\\n\\n          Product Launch\\n        \\n\\n\\n\\n\\n          Company Goals\\n        \\n\\n\\n\\n\\n          Mission to the Moon\\n        \\n\\n\\n\\n\\n\\nOrganize your work\\n\\n\\n\\nHelp your team hit their deadlines\\n\\n\\n\\nHit your deadline\\n\\n\\n\\nHave actionable conversations\\n\\n\\n\\nAttach files to your work\\n\\n\\n\\nView work at a glance\\n\\n\\n\\nTrack your progress\\n\\n\\n\\nWork on the go\\n\\n\\n\\nRun successful programs, every time\\n\\n\\n\\n\\n\\nMap out each step\\n\\n\\n\\nKnow who’s got the ball\\n\\n\\n\\nLaunch on time\\n\\n\\n\\nKeep everyone up-to-date\\n\\n\\n\\nStore work in one place\\n\\n\\n\\nTrack dates and milestones\\n\\n\\n\\nSee what’s on track, and what isn’t\\n\\n\\n\\nStay connected, wherever you are\\n\\n\\n\\nReady, set, launch!\\n\\n\\n\\n\\n\\nMap out priorities\\n\\n\\n\\nDetermine the right point person\\n\\n\\n\\nMake a plan to hit your goals\\n\\n\\n\\nShare info and give updates\\n\\n\\n\\nAttach important files\\n\\n\\n\\nKeep an eye on important dates\\n\\n\\n\\nTrack company progress\\n\\n\\n\\nStay in the loop\\n\\n\\n\\nHit your goals\\n\\n\\n\\n\\n\\nGet ready for the mission\\n\\n\\n\\nKnow who’s in charge\\n\\n\\n\\nMap out each step\\n\\n\\n\\nMake sure all systems are a go\\n\\n\\n\\nTie it all together\\n\\n\\n\\nKeep your eye on the prize\\n\\n\\n\\nTrack your progress\\n\\n\\n\\nWork from anywhere\\n\\n\\n\\n3, 2, 1… blastoff!\\n\\n\\n\\n\\n\\n\\n\\n                Organize your work\\n              \\n\\n                Set clear tasks and milestones to give your team clarity on what needs to be done.\\n              \\n\\n\\n\\nGet Started\\nContact Sales\\n\\n\\n\\n\\n\\n\\n\\n\\n\\n\\n\\n\\n\\n\\n\\n                Help your team hit their deadlines\\n              \\n\\n                Let each marketer know exactly what work they’re responsible for with clear assignees and due dates.\\n              \\n\\n\\n\\nGet Started\\nContact Sales\\n\\n\\n\\n\\n\\n\\n\\n\\n\\n\\n\\n\\n\\n\\n\\n\\n\\n\\n\\n\\n\\n\\n\\n                Hit your deadline\\n              \\n\\n                Map out your campaign plan to visualize how all the pieces fit together, spot potential issues, and keep work on track.\\n              \\n\\n\\n\\nGet Started\\nContact Sales\\n\\n\\n\\n\\n\\n\\n\\n\\n\\n\\n\\n\\n\\n\\n\\n\\n\\n\\n\\n\\n\\n\\n\\n                Have actionable conversations\\n              \\n\\n                Ask questions or give updates with the work that’s being done, so conversations turn into actions.\\n              \\n\\n\\n\\nGet Started\\nContact Sales\\n\\n\\n\\n\\n\\n\\n\\n\\n\\n\\n\\n\\n\\n\\n\\n\\n\\n\\n\\n\\n\\n\\n\\n                Attach files to your work\\n              \\n\\n                Tie shared docs, design files, and budget spreadsheets together so your team isn’t searching for info.\\n              \\n\\n\\n\\nGet Started\\nContact Sales\\n\\n\\n\\n\\n\\n\\n\\n\\n\\n\\n\\n\\n\\n\\n\\n\\n\\n\\n\\n\\n\\n\\n\\n                View work at a glance\\n              \\n\\n                Look at work on a calendar to keep an eye on timing and rally around important dates\\n              \\n\\n\\n\\nGet Started\\nContact Sales\\n\\n\\n\\n\\n\\n\\n\\n\\n\\n\\n\\n\\n\\n\\n\\n\\n\\n\\n\\n\\n\\n\\n\\n                Track your progress\\n              \\n\\n                Keep up to date on project progress and quickly spot when things are off track. \\n              \\n\\n\\n\\nGet Started\\nContact Sales\\n\\n\\n\\n\\n\\n\\n\\n\\n\\n\\n\\n\\n\\n\\n\\n\\n\\n\\n\\n\\n\\n\\n\\n                Work on the go\\n              \\n\\n                Whether you’re meeting with a vendor, at a conference, or out of office, stay connected with Asana for mobile.\\n              \\n\\n\\n\\nGet Started\\nContact Sales\\n\\n\\n\\n\\n\\n\\n\\n\\n\\n\\n\\n\\n\\n\\n\\n\\n\\n\\n\\n\\n\\n\\n\\n                Run successful programs, every time\\n              \\n\\n                Asana helps marketing teams plan, manage, track, and launch initiatives that engage their audience.\\n              \\n\\n\\n\\nGet Started\\nContact Sales\\n\\n\\n\\n\\n\\n\\n\\n\\n\\n                Map out each step\\n              \\n\\n                Map out critical steps—from development to launch—so everyone has clarity on the  roadmap.\\n              \\n\\n\\n\\nGet Started\\nContact Sales\\n\\n\\n\\n\\n\\n\\n\\n\\n\\n\\n\\n\\n\\n\\n\\n                Know who’s got the ball\\n              \\n\\n                Give clear owners and due dates for each piece of the launch, so you can release on   time.\\n              \\n\\n\\n\\nGet Started\\nContact Sales\\n\\n\\n\\n\\n\\n\\n\\n\\n\\n\\n\\n\\n\\n\\n\\n\\n\\n\\n\\n\\n\\n\\n\\n                Launch on time\\n              \\n\\n                See how the pieces of your plan fit together so you can make adjustments and keep work on track.\\n              \\n\\n\\n\\nGet Started\\nContact Sales\\n\\n\\n\\n\\n\\n\\n\\n\\n\\n\\n\\n\\n\\n\\n\\n\\n\\n\\n\\n\\n\\n\\n\\n                Keep everyone up-to-date\\n              \\n\\n                Make sure important updates and conversations don’t get buried in email threads by connecting them to your work.\\n              \\n\\n\\n\\nGet Started\\nContact Sales\\n\\n\\n\\n\\n\\n\\n\\n\\n\\n\\n\\n\\n\\n\\n\\n\\n\\n\\n\\n\\n\\n\\n\\n                Store work in one place\\n              \\n\\n                Attach files to your project, so everyone knows where to find the correct info.\\n              \\n\\n\\n\\nGet Started\\nContact Sales\\n\\n\\n\\n\\n\\n\\n\\n\\n\\n\\n\\n\\n\\n\\n\\n\\n\\n\\n\\n\\n\\n\\n\\n                Track dates and milestones\\n              \\n\\n                Keep an eye on important dates by viewing launch plans on a calendar.\\n              \\n\\n\\n\\nGet Started\\nContact Sales\\n\\n\\n\\n\\n\\n\\n\\n\\n\\n\\n\\n\\n\\n\\n\\n\\n\\n\\n\\n\\n\\n\\n\\n                See what’s on track, and what isn’t\\n              \\n\\n                See how work is progressing to make sure you’re on track to hit your deadlines and  goals.\\n              \\n\\n\\n\\nGet Started\\nContact Sales\\n\\n\\n\\n\\n\\n\\n\\n\\n\\n\\n\\n\\n\\n\\n\\n\\n\\n\\n\\n\\n\\n\\n\\n                Stay connected, wherever you are\\n              \\n\\n                Stay up to date on how your launch is progressing no matter where you are with Asana for  mobile.\\n              \\n\\n\\n\\nGet Started\\nContact Sales\\n\\n\\n\\n\\n\\n\\n\\n\\n\\n\\n\\n\\n\\n\\n\\n\\n\\n\\n\\n\\n\\n\\n\\n                Ready, set, launch!\\n              \\n\\n                Asana helps product teams hit deadlines—so they can launch great products.\\n              \\n\\n\\n\\nGet Started\\nContact Sales\\n\\n\\n\\n\\n\\n\\n\\n\\n\\n                Map out priorities\\n              \\n\\n                Create tasks for each goal so everyone has visibility into company-wide objectives.\\n              \\n\\n\\n\\nGet Started\\nContact Sales\\n\\n\\n\\n\\n\\n\\n\\n\\n\\n\\n\\n\\n\\n\\n\\n                Determine the right point person\\n              \\n\\n                Assign each goal to the appropriate person, so everyone knows who’s responsible, and who to go to with questions.\\n              \\n\\n\\n\\nGet Started\\nContact Sales\\n\\n\\n\\n\\n\\n\\n\\n\\n\\n\\n\\n\\n\\n\\n\\n\\n\\n\\n\\n\\n\\n\\n\\n                Make a plan to hit your goals\\n              \\n\\n                See how each milestone ladders up to your goals so you can feel confident you’ll hit your targets.\\n              \\n\\n\\n\\nGet Started\\nContact Sales\\n\\n\\n\\n\\n\\n\\n\\n\\n\\n\\n\\n\\n\\n\\n\\n\\n\\n\\n\\n\\n\\n\\n\\n                Share info and give updates\\n              \\n\\n                Keep stakeholders up to date on the latest info and progress, with updates and comments tied directly to your goals.\\n              \\n\\n\\n\\nGet Started\\nContact Sales\\n\\n\\n\\n\\n\\n\\n\\n\\n\\n\\n\\n\\n\\n\\n\\n\\n\\n\\n\\n\\n\\n\\n\\n                Attach important files\\n              \\n\\n                Integrate Asana with your file sharing tools to keep all your important docs in one place.\\n              \\n\\n\\n\\nGet Started\\nContact Sales\\n\\n\\n\\n\\n\\n\\n\\n\\n\\n\\n\\n\\n\\n\\n\\n\\n\\n\\n\\n\\n\\n\\n\\n                Keep an eye on important dates\\n              \\n\\n                Look at your initiative deadlines and milestones on a calendar to make sure you’ve nailed the timing.\\n              \\n\\n\\n\\nGet Started\\nContact Sales\\n\\n\\n\\n\\n\\n\\n\\n\\n\\n\\n\\n\\n\\n\\n\\n\\n\\n\\n\\n\\n\\n\\n\\n                Track company progress\\n              \\n\\n                Understand what objectives are on track, and what needs your attention so you can hit your goals.\\n              \\n\\n\\n\\nGet Started\\nContact Sales\\n\\n\\n\\n\\n\\n\\n\\n\\n\\n\\n\\n\\n\\n\\n\\n\\n\\n\\n\\n\\n\\n\\n\\n                Stay in the loop\\n              \\n\\n                Get updates and weigh in on important decisions wherever you are, with Asana for mobile.\\n              \\n\\n\\n\\nGet Started\\nContact Sales\\n\\n\\n\\n\\n\\n\\n\\n\\n\\n\\n\\n\\n\\n\\n\\n\\n\\n\\n\\n\\n\\n\\n\\n                Hit your goals\\n              \\n\\n                Asana gives your team visibility into your organization’s goals, so everyone stays focused on what matters most.\\n              \\n\\n\\n\\nGet Started\\nContact Sales\\n\\n\\n\\n\\n\\n\\n\\n\\n\\n                Get ready for the mission\\n              \\n\\n                Map out each step of your mission, so you don’t forget anything as you shoot for the stars.\\n              \\n\\n\\n\\nGet Started\\nContact Sales\\n\\n\\n\\n\\n\\n\\n\\n\\n\\n\\n\\n\\n\\n\\n\\n                Know who’s in charge\\n              \\n\\n                Assign clear owners for each task, so your pilot, commander, and flight engineer know what they need to do.\\n              \\n\\n\\n\\nGet Started\\nContact Sales\\n\\n\\n\\n\\n\\n\\n\\n\\n\\n\\n\\n\\n\\n\\n\\n\\n\\n\\n\\n\\n\\n\\n\\n                Map out each step\\n              \\n\\n                Create a launch plan so you can chart your course from start to finish, share it with your team, and modify it as conditions change.\\n              \\n\\n\\n\\nGet Started\\nContact Sales\\n\\n\\n\\n\\n\\n\\n\\n\\n\\n\\n\\n\\n\\n\\n\\n\\n\\n\\n\\n\\n\\n\\n\\n                Make sure all systems are a go\\n              \\n\\n                Ask important questions, have conversations, and give status updates to get your crew ready for launch day.\\n              \\n\\n\\n\\nGet Started\\nContact Sales\\n\\n\\n\\n\\n\\n\\n\\n\\n\\n\\n\\n\\n\\n\\n\\n\\n\\n\\n\\n\\n\\n\\n\\n                Tie it all together\\n              \\n\\n                Connect Asana to the other tools you need for your mission, so all your information lives in the same place.\\n              \\n\\n\\n\\nGet Started\\nContact Sales\\n\\n\\n\\n\\n\\n\\n\\n\\n\\n\\n\\n\\n\\n\\n\\n\\n\\n\\n\\n\\n\\n\\n\\n                Keep your eye on the prize\\n              \\n\\n                View each milestone on a calendar, so you can track important dates leading up to takeoff.\\n              \\n\\n\\n\\nGet Started\\nContact Sales\\n\\n\\n\\n\\n\\n\\n\\n\\n\\n\\n\\n\\n\\n\\n\\n\\n\\n\\n\\n\\n\\n\\n\\n                Track your progress\\n              \\n\\n                See what’s on track, and what isn’t, so you can be sure you’re ready for launch day.\\n              \\n\\n\\n\\nGet Started\\nContact Sales\\n\\n\\n\\n\\n\\n\\n\\n\\n\\n\\n\\n\\n\\n\\n\\n\\n\\n\\n\\n\\n\\n\\n\\n                Work from anywhere\\n              \\n\\n                Keep up to date whether you’re in the office or on the moon, just make sure you have internet connection!\\n              \\n\\n\\n\\nGet Started\\nContact Sales\\n\\n\\n\\n\\n\\n\\n\\n\\n\\n\\n\\n\\n\\n\\n\\n\\n\\n\\n\\n\\n\\n\\n\\n                3, 2, 1… blastoff!\\n              \\n\\n                With Asana, your crew can shoot for the moon, and get there. All it takes is one small step…\\n              \\n\\n\\n\\nGet Started\\nContact Sales\\n\\n\\n\\n\\n\\n\\n\\n\\n\\n\\n\\n\\n\\n\\n\\n\\n\\n\\n\\n\\n\\n\\nAsana\\n\\nHome\\n\\n\\nProduct\\n\\n\\nCustomers\\n\\n\\nPricing\\n\\n\\nCustomer Success\\n\\n\\nAsana Blog\\n\\n\\n\\nAbout Us\\n\\nCompany\\n\\n\\nLeadership\\n\\n\\nDiversity\\n\\n\\nJobs\\n\\n\\nPress\\n\\n\\nWavelength\\n\\n\\n\\nWorkflow Solutions\\n\\nProject Management\\n\\n\\nAgile\\n\\n\\nTask Management\\n\\n\\nReporting\\n\\n\\nWork Management\\n\\n\\nSee All Uses\\n\\n\\n\\nTeam Solutions\\n\\nEngineering\\n\\n\\nDesigners\\n\\n\\nSales\\n\\n\\nHR\\n\\n\\nMarketing\\n\\n\\nSee All Teams\\n\\n\\n\\nResources\\n\\nAsana Guide\\n\\n\\nSupport\\n\\n\\nIntegrations\\n\\n\\nPartners\\n\\n\\nAsana Community\\n\\n\\nDevelopers & API\\n\\n\\n\\n\\n\\n\\n\\n\\n\\n\\n\\n\\n\\n\\n\\nDeutsch\\nEnglish\\nEspañol\\nFrançais\\nPortuguês\\n日本語\\n\\n\\n\\n\\n\\n                    Terms & Privacy\\n                  \\n\\n\\n\\n\\n\\n\\n\\n\\n\\n\\n\\n\\n\\n\\n\\n\\n\\n\\n\\n\\n\\n!function(e){e(function(){if(!AsanaHelpers.specialPlatform())try{e(\".signup-email-page-builder:first-of-type\").focus()}catch(e){}})}(jQuery)\\n\\n\\n\\n\\n\\nLog in\\n\\n\\n\\n\\n\\n\\n\\n\\n          Use Google Account\\n\\nor\\n\\n\\n\\n\\n\\n\\n\\n\\nEmail Address\\n\\n\\n\\nPassword\\n\\n\\n\\n\\n\\n\\n\\n\\n      Forgot password?\\n    \\n\\n\\nDon’t have an account? Sign up\\n\\n\\n\\n\\n\\n\\n\\n\\n\\n\\nSign up\\n\\nPlease use your work email address, so we can connect you with your team in Asana.\\n\\n\\n\\n\\n\\n\\n\\n\\n                  Sign up\\n              \\n\\n\\n\\n\\n\\n\\n\\n\\n\\n\\n\\n\\n\\n\\n\\n$(function(){$(\".signup-submit-modal-signup\").keyup(function(i){13==i.keyCode&&$(this).click()}),$(\".signup-email-modal-signup\").on(\"keydown\",function(){var i=$(this);i.addClass(\"active\"),i.closest(\".signupForm\").find(\".signup-email-modal-signup-not-valid\").fadeOut(500)}),$(\".signup-email-modal-signup\").on(\"keyup\",function(){var i=$(this);i.val().length||i.removeClass(\"active\")})})\\n\\n\\n      Go to Asana\\n    \\n\\nBy signing up, I agree to the Asana Privacy Policy and Terms of Service.\\n\\n\\n\\n\\n\\nTry Asana Premium for free\\nTeams report that Asana Premium increases their team’s efficiency by 45%. Try it free for 30 days to get access to more powerful features that help you hit your goals.\\nStart free trial\\n\\n\\n\\n\\n\\n\\n\\n\\n\\nSign up\\n\\nPlease use your work email address, so we can connect you with your team in Asana.\\n\\n\\n\\n\\n\\n\\n\\n\\n                  Get Started\\n              \\n\\n\\n\\n\\n\\n\\n\\n\\n\\n\\n\\n\\n\\n\\n\\n$(function(){$(\".signup-submit-modal-get-started\").keyup(function(t){13==t.keyCode&&$(this).click()}),$(\".signup-email-modal-get-started\").on(\"keydown\",function(){var t=$(this);t.addClass(\"active\"),t.closest(\".signupForm\").find(\".signup-email-modal-get-started-not-valid\").fadeOut(500)}),$(\".signup-email-modal-get-started\").on(\"keyup\",function(){var t=$(this);t.val().length||t.removeClass(\"active\")})})\\n\\n\\n      Go to Asana\\n    \\n\\nBy signing up, I agree to the Asana Privacy Policy and Terms of Service.\\n\\n\\n\\n\\n\\n\\n\\n\\nStart your free trial\\n\\nPlease use your work email address so we can connect you with your team in Asana.\\n\\n\\n\\n\\n\\n\\n\\n\\n                  Start Free Trial\\n              \\n\\n\\n\\n\\n\\n\\n\\n\\n\\n\\n\\n\\n\\n\\n\\n$(function(){$(\".signup-submit-modal-try\").keyup(function(i){13==i.keyCode&&$(this).click()}),$(\".signup-email-modal-try\").on(\"keydown\",function(){var i=$(this);i.addClass(\"active\"),i.closest(\".signupForm\").find(\".signup-email-modal-try-not-valid\").fadeOut(500)}),$(\".signup-email-modal-try\").on(\"keyup\",function(){var i=$(this);i.val().length||i.removeClass(\"active\")})})\\n\\n\\n      Start Free Trial\\n    \\n\\nAlready using Asana?\\u2028Log in to activate your free trial of Asana Premium.\\n\\nBy signing up, I agree to the Asana Privacy Policy and Terms of Service.\\n\\n\\n\\n\\n\\n\\n\\n\\nStart your free trial\\n\\nPlease use your work email address so we can connect you with your team in Asana.\\n\\n\\n\\n\\n\\n\\n\\n\\n                  Start Free Trial\\n              \\n\\n\\n\\n\\n\\n\\n\\n\\n\\n\\n\\n\\n\\n\\n\\n$(function(){$(\".signup-submit-modal-trial\").keyup(function(i){13==i.keyCode&&$(this).click()}),$(\".signup-email-modal-trial\").on(\"keydown\",function(){var i=$(this);i.addClass(\"active\"),i.closest(\".signupForm\").find(\".signup-email-modal-trial-not-valid\").fadeOut(500)}),$(\".signup-email-modal-trial\").on(\"keyup\",function(){var i=$(this);i.val().length||i.removeClass(\"active\")})})\\n\\n\\n      Start Free Trial\\n    \\n\\nBy signing up, I agree to the Asana Privacy Policy and Terms of Service.\\n\\n\\n\\n\\n\\n\\n\\n\\nBuy Now\\n\\nPlease use your work email address, so we can connect you with your team in Asana.\\n\\n\\n\\n\\n\\n\\n\\n\\n                  Get Started\\n              \\n\\n\\n\\n\\n\\n\\n\\n\\n\\n\\n\\n\\n\\n\\n\\n$(function(){$(\".signup-submit-modal-buy\").keyup(function(i){13==i.keyCode&&$(this).click()}),$(\".signup-email-modal-buy\").on(\"keydown\",function(){var i=$(this);i.addClass(\"active\"),i.closest(\".signupForm\").find(\".signup-email-modal-buy-not-valid\").fadeOut(500)}),$(\".signup-email-modal-buy\").on(\"keyup\",function(){var i=$(this);i.val().length||i.removeClass(\"active\")})})\\n\\n\\n      Go to Asana\\n    \\n\\nBy signing up, I agree to the Asana Privacy Policy and Terms of Service.\\n\\n\\n\\n\\n\\n\\n\\n\\nEnter a work email address\\n\\nThis email looks like a personal email address. If you want to be connected with your team, please use your work email address.\\n\\n\\n\\n\\n  Enter a work email address\\n\\nor\\n\\n  Continue with my email\\n\\n\\n\\n    Why are we asking?\\n  \\n\\n\\nAsana is built for teams to track their work, and the only way to auto-connect with other people in your company is by signing up with your work email address. Learn more\\n\\n\\n\\n\\n\\n\\n\\n\\n\\n\\n\\n\\n\\n\\n\\n\\n\\n\\n\\n\\n\\n\\n\\nOops, we couldn’t sign you up!\\n\\nWe tried, but there was a problem creating your account. Please close this window and try again!\\n\\n\\n\\n\\n\\n\\n\\n\\n\\n\\nHey there, we’ve already met!\\n\\n\\nLooks like you already have an account. Please sign in.\\n\\n\\n\\n\\n\\n\\n\\n          Use Google Account\\n\\n\\n\\nLooks like you already have an account. Please sign in.\\n\\n\\n\\n\\n\\n\\n\\n\\nEmail Address\\n\\n\\n\\nPassword\\n\\n\\n\\n\\n\\n\\n\\n\\n      Forgot password?\\n    \\n\\n\\n\\n\\n\\n\\n\\n\\nTry Asana Premium for free\\nTeams report that Asana Premium increases their team’s efficiency by 45%. Try it free for 30 days to get access to more powerful features that help you hit your goals.\\nStart free trial\\n\\n\\n\\n\\n\\n\\n\\n\\n\\nAdd link to workspace\\n\\n\\nAdd link to\\n\\nworkspace\\n\\n\\n\\nError&colon; Please select a workspace before adding link\\n\\n\\n\\n\\n\\n\\n\\n\\n\\n\\n\\n\\n\\n\\n\\n\\n\\n\\n\\n\\n\\n\\n\\n\\n\\n\\n\\n\\n\\n\\nSorry, we don’t support this browser\\n\\nAsana doesn’t work with the internet browser you are currently using. Please sign up using one of these supported browsers instead.\\n\\n\\n\\n\\n\\n\\n\\n\\nPlease login or sign up for Asana to calculate your price\\n\\n\\n\\n\\n\\n\\n\\n\\n          Use Google Account\\n\\nor\\n\\n\\n\\n\\n\\n\\n\\n\\nEmail Address\\n\\n\\n\\nPassword\\n\\n\\n\\n\\n\\n\\n\\n\\n      Forgot password?\\n    \\n\\n\\nDon’t have an account? Sign up\\n\\n\\n\\n'"
      ]
     },
     "execution_count": 90,
     "metadata": {},
     "output_type": "execute_result"
    }
   ],
   "source": [
    "bod.text"
   ]
  },
  {
   "cell_type": "code",
   "execution_count": 103,
   "metadata": {},
   "outputs": [],
   "source": [
    "bod_sub = re.sub(r'\\n(\\t|\\n|\\s)*', '\\n',bod.text)"
   ]
  },
  {
   "cell_type": "code",
   "execution_count": 104,
   "metadata": {},
   "outputs": [
    {
     "data": {
      "text/plain": [
       "'\\nWe use cookies to give you the best possible experience on our website. By continuing to browse this site, you give consent for cookies to be used. For more details, please read our Cookie Policy.\\nTour\\nProduct\\nPricing\\nContact Sales \\nRequest Info\\nView Demo\\nLearn more \\nSecurity\\nIntegrations\\nAdmin controls\\nLog In\\nGet Started\\nGo to Asana\\nProduct\\nCustomers\\nPricing\\nJobs\\nAsana Blog\\nWavelength\\nAsana Guide\\nGet Started\\nLog In\\n$(document).ready(function(){var e=$(\".mobileNav-toggle\");e.click(function(){$(\"html\").toggleClass(\"-no-scroll\"),e.toggleClass(\"-is-active\"),$(\".siteHeader\").toggleClass(\"-mobile-nav-active\"),$(\".mobileNav\").toggleClass(\"-is-active\")})})\\nOur Company\\nWe’re empowering teams to do great things together.\\nAsana’s mission is to help humanity thrive by enabling all teams to work together effortlessly\\nWe’re changing how teams work together\\nThink back to the last time you were deep in the zone—time flew by and the work flowed through you almost effortlessly. That’s how working together should be. Instead, information is scattered and responsibilities are unclear. We try to cut through the chaos with endless meetings and micromanagement, but we end up with less time and not much more clarity.\\nWork shouldn’t be chaos\\nAt Asana, we’re building a place where everything from the most immediate details to the big picture are organized. With Asana, each person knows what they should be doing and why. This clarity, transparency, and focus allows teams to collaborate with less friction and produce great results.We believe coordination should be as effortless between people as it is between our own brains and bodies, that people should be appreciated, and love what they do.\\nBy empowering all teams to work together, we help humanity thrive.\\nGet to know Asana\\nWe stay connected through our shared mission and values\\nFocus on our mission\\nWe continually ground in why we’re building Asana: to help all teams work together effortlessly. We attempt to establish a direct line between that purpose and our day-to-day work. We answer strategic conflicts by asking the question: which choice maximizes the success of our mission?\\nEmbrace mindfulness and equanimity\\nWe start with awareness. We let go of stories we’re telling ourselves about heroes, victims, and villains, and we accept wherever we are. We reflect on our past experiences and we act intentionally.\\nPractice balance in all things, including balance\\nThough it is tempting to pick an extreme point of view or compromise between two poles, the best outcomes often require incorporating elements of each extreme or, better yet, transcending them altogether through synthesis.\\nClarify who’s doing what by when, how, and why\\nA fundamental problem with modern work is that too much time is spent trying to figure out what’s going on. We try to make it as easy as possible for teams to have the information they need to excel at their work.\\nTake and give full responsibility\\nAsana is an experiment in the idea that the responsibility should be distributed among a great team of peers that respect and trust each other, so we proactively build relationships and seek to understand each other. We let go when we’re not the Directly Responsible Individual, and we take action when we are. We empower each other.\\nBe real with yourself and others\\nWe take our commitments to each other seriously. We admit when we’re wrong. We treat ourselves as whole people at work. We feel our feelings all the way through and we’re not afraid to give constructive feedback or disagree. We embrace reality.\\nCreate and play together\\nWe are co-creating Asana together, and we’re playful while we do it. We maintain an attitude of curiosity, fearlessness, and creativity around tough problems. We embrace failure as learning and celebrate iteration. We don’t hide from our quirks. We appreciate each other and don’t take success for granted.\\nfunction skrollTo(o){$(\"html, body\").animate({scrollTop:$(o).offset().top-100},500)}function expandFirstAccordionItemIfEnabled(o){$(\"#first-item-opened-on-load\").val()&&o.expandItem($(o.wrappers[0]))}var delay=function(){var t=0;return function(o,i){clearTimeout(t),t=setTimeout(o,i)}}(),Accordion=function(o){this.$accordion=$(o),this.wrappers=$(this.$accordion.find(\".accordion-wrapper\")),this.initialize()};Accordion.prototype.initialize=function(o){this.setupAccordion(),this.bindClickListener()},Accordion.prototype.setupAccordion=function(){var o=this.wrappers.toArray();this.calculateOffsets(o),this.reset(),this.adjustBlockerHeight(),this.setAccordionHeight()},Accordion.prototype.calculateOffsets=function(o){o.forEach(function(o,i){var t=$(o).prev(),c=-$(t).find(\".accordion-body\").outerHeight(!0)+parseInt(t.attr(\"data-offset\"));0===$(o).index()&&(c=0),$(o).attr(\"data-offset\",c-1+\"px\")})},Accordion.prototype.reset=function(){this.wrappers.toArray().forEach(function(o,i){var t=$(o).attr(\"data-offset\");$(o).css(\"top\",t)})},Accordion.prototype.bindClickListener=function(){var o=this;this.wrappers.click(function(){o.expandItem($(this))})},Accordion.prototype.expandItem=function(o){var i=$(\".accordion-wrapper.is-active\");this.adjustAccordionSize(i,o),this.toggleActiveState(i,o),this.moveItems(i,o)},Accordion.prototype.toggleActiveState=function(o,i){if($(\".accordion .is-active\").removeClass(\"is-active\"),!o.is(i)){var t=i.toArray(),c=i.find(\"*\").toArray();t.concat(c).forEach(function(o){$(o).addClass(\"is-active\")})}},Accordion.prototype.moveItems=function(o,i){var t=i.nextAll().toArray();this.reset(),o.is(i)||this.moveDown(i,t)},Accordion.prototype.moveDown=function(o,i){var c=$(o).find(\".accordion-body\").outerHeight(!0);i.forEach(function(o,i){var t=parseInt($(o).attr(\"data-offset\"));$(o).css(\"top\",t+c)})},Accordion.prototype.adjustBlockerHeight=function(){var o=this.$accordion.find(\".accordion-wrapper:last-child\"),i=o.prev().find(\".accordion-body\").height();o.find(\".accordion-tab\").height(i)},Accordion.prototype.adjustAccordionSize=function(o,i){var t=this.$accordion.height(),c=$(i).find(\".accordion-body\").outerHeight(),r=$(o).find(\".accordion-body\").outerHeight();if(o.is(i))this.$accordion.height(t-r);else{var n=c-r;this.$accordion.height(t+n)}},Accordion.prototype.setAccordionHeight=function(){var o=this.$accordion.find(\".accordion-wrapper:not(.blocker)\").toArray().reduce(function(o,i){return o+($(i).find(\".accordion-tab\").outerHeight(!0)+5)},0);this.$accordion.height(o)},$(window).on(\"load\",function(){var c=[];$(\".accordion-row\").toArray().forEach(function(o){o=new Accordion(o);c.push(o)}),$(\".accordion-row:not(:first-of-type), .accordion-header:not(:first-of-type)\").addClass(\"-is-hidden\"),$(\".accordion a\").click(function(o){o.stopPropagation()}),expandFirstAccordionItemIfEnabled(c[0]),$(window).resize(function(){var o=$(\".accordion-row\").index($(\".accordion-row:not(.-is-hidden)\"));delay(function(){$(\".accordion .is-active\").removeClass(\"is-active\"),c[o].setupAccordion()},200)}),$(\".accordion-row\").bind(\"newAccordionShow\",function(o,i){c[i].setupAccordion()}),$(\".supportcard-content\").click(function(o){o.preventDefault();var i=$(this).parent().index(),t=$(\".accordion-row\").eq(i);$(\".accordion-row\").addClass(\"-is-hidden\"),$(\".accordion-header\").addClass(\"-is-hidden\"),t.removeClass(\"-is-hidden\"),$(\".accordion-header\").eq(i).removeClass(\"-is-hidden\"),skrollTo(\"#accordion\"),expandFirstAccordionItemIfEnabled(c[i]),$(\".accordion-row\").trigger(\"newAccordionShow\",i)})})\\nWe’re all about results\\nWe’re building a product that empowers teams to track their work—and produce great results.\\nSee how it works\\nWe’re proud of what we’ve achieved—Asana is already one of the fastest-growing SaaS companies ever.\\nSee what people are saying\\nWe’re even more proud of what our customers have accomplished with Asana, and we’re excited to empower new teams every day.\\nSee what teams do with Asana\\nLet’s do great things together\\nJoin our team\\nExplore Asana\\nAsana is the easiest way for teams to track their projects and tasks, so they can get results.\\nMarketing Campaign\\nProduct Launch\\nCompany Goals\\nMission to the Moon\\nOrganize your work\\nHelp your team hit their deadlines\\nHit your deadline\\nHave actionable conversations\\nAttach files to your work\\nView work at a glance\\nTrack your progress\\nWork on the go\\nRun successful programs, every time\\nMap out each step\\nKnow who’s got the ball\\nLaunch on time\\nKeep everyone up-to-date\\nStore work in one place\\nTrack dates and milestones\\nSee what’s on track, and what isn’t\\nStay connected, wherever you are\\nReady, set, launch!\\nMap out priorities\\nDetermine the right point person\\nMake a plan to hit your goals\\nShare info and give updates\\nAttach important files\\nKeep an eye on important dates\\nTrack company progress\\nStay in the loop\\nHit your goals\\nGet ready for the mission\\nKnow who’s in charge\\nMap out each step\\nMake sure all systems are a go\\nTie it all together\\nKeep your eye on the prize\\nTrack your progress\\nWork from anywhere\\n3, 2, 1… blastoff!\\nOrganize your work\\nSet clear tasks and milestones to give your team clarity on what needs to be done.\\nGet Started\\nContact Sales\\nHelp your team hit their deadlines\\nLet each marketer know exactly what work they’re responsible for with clear assignees and due dates.\\nGet Started\\nContact Sales\\nHit your deadline\\nMap out your campaign plan to visualize how all the pieces fit together, spot potential issues, and keep work on track.\\nGet Started\\nContact Sales\\nHave actionable conversations\\nAsk questions or give updates with the work that’s being done, so conversations turn into actions.\\nGet Started\\nContact Sales\\nAttach files to your work\\nTie shared docs, design files, and budget spreadsheets together so your team isn’t searching for info.\\nGet Started\\nContact Sales\\nView work at a glance\\nLook at work on a calendar to keep an eye on timing and rally around important dates\\nGet Started\\nContact Sales\\nTrack your progress\\nKeep up to date on project progress and quickly spot when things are off track. \\nGet Started\\nContact Sales\\nWork on the go\\nWhether you’re meeting with a vendor, at a conference, or out of office, stay connected with Asana for mobile.\\nGet Started\\nContact Sales\\nRun successful programs, every time\\nAsana helps marketing teams plan, manage, track, and launch initiatives that engage their audience.\\nGet Started\\nContact Sales\\nMap out each step\\nMap out critical steps—from development to launch—so everyone has clarity on the  roadmap.\\nGet Started\\nContact Sales\\nKnow who’s got the ball\\nGive clear owners and due dates for each piece of the launch, so you can release on   time.\\nGet Started\\nContact Sales\\nLaunch on time\\nSee how the pieces of your plan fit together so you can make adjustments and keep work on track.\\nGet Started\\nContact Sales\\nKeep everyone up-to-date\\nMake sure important updates and conversations don’t get buried in email threads by connecting them to your work.\\nGet Started\\nContact Sales\\nStore work in one place\\nAttach files to your project, so everyone knows where to find the correct info.\\nGet Started\\nContact Sales\\nTrack dates and milestones\\nKeep an eye on important dates by viewing launch plans on a calendar.\\nGet Started\\nContact Sales\\nSee what’s on track, and what isn’t\\nSee how work is progressing to make sure you’re on track to hit your deadlines and  goals.\\nGet Started\\nContact Sales\\nStay connected, wherever you are\\nStay up to date on how your launch is progressing no matter where you are with Asana for  mobile.\\nGet Started\\nContact Sales\\nReady, set, launch!\\nAsana helps product teams hit deadlines—so they can launch great products.\\nGet Started\\nContact Sales\\nMap out priorities\\nCreate tasks for each goal so everyone has visibility into company-wide objectives.\\nGet Started\\nContact Sales\\nDetermine the right point person\\nAssign each goal to the appropriate person, so everyone knows who’s responsible, and who to go to with questions.\\nGet Started\\nContact Sales\\nMake a plan to hit your goals\\nSee how each milestone ladders up to your goals so you can feel confident you’ll hit your targets.\\nGet Started\\nContact Sales\\nShare info and give updates\\nKeep stakeholders up to date on the latest info and progress, with updates and comments tied directly to your goals.\\nGet Started\\nContact Sales\\nAttach important files\\nIntegrate Asana with your file sharing tools to keep all your important docs in one place.\\nGet Started\\nContact Sales\\nKeep an eye on important dates\\nLook at your initiative deadlines and milestones on a calendar to make sure you’ve nailed the timing.\\nGet Started\\nContact Sales\\nTrack company progress\\nUnderstand what objectives are on track, and what needs your attention so you can hit your goals.\\nGet Started\\nContact Sales\\nStay in the loop\\nGet updates and weigh in on important decisions wherever you are, with Asana for mobile.\\nGet Started\\nContact Sales\\nHit your goals\\nAsana gives your team visibility into your organization’s goals, so everyone stays focused on what matters most.\\nGet Started\\nContact Sales\\nGet ready for the mission\\nMap out each step of your mission, so you don’t forget anything as you shoot for the stars.\\nGet Started\\nContact Sales\\nKnow who’s in charge\\nAssign clear owners for each task, so your pilot, commander, and flight engineer know what they need to do.\\nGet Started\\nContact Sales\\nMap out each step\\nCreate a launch plan so you can chart your course from start to finish, share it with your team, and modify it as conditions change.\\nGet Started\\nContact Sales\\nMake sure all systems are a go\\nAsk important questions, have conversations, and give status updates to get your crew ready for launch day.\\nGet Started\\nContact Sales\\nTie it all together\\nConnect Asana to the other tools you need for your mission, so all your information lives in the same place.\\nGet Started\\nContact Sales\\nKeep your eye on the prize\\nView each milestone on a calendar, so you can track important dates leading up to takeoff.\\nGet Started\\nContact Sales\\nTrack your progress\\nSee what’s on track, and what isn’t, so you can be sure you’re ready for launch day.\\nGet Started\\nContact Sales\\nWork from anywhere\\nKeep up to date whether you’re in the office or on the moon, just make sure you have internet connection!\\nGet Started\\nContact Sales\\n3, 2, 1… blastoff!\\nWith Asana, your crew can shoot for the moon, and get there. All it takes is one small step…\\nGet Started\\nContact Sales\\nAsana\\nHome\\nProduct\\nCustomers\\nPricing\\nCustomer Success\\nAsana Blog\\nAbout Us\\nCompany\\nLeadership\\nDiversity\\nJobs\\nPress\\nWavelength\\nWorkflow Solutions\\nProject Management\\nAgile\\nTask Management\\nReporting\\nWork Management\\nSee All Uses\\nTeam Solutions\\nEngineering\\nDesigners\\nSales\\nHR\\nMarketing\\nSee All Teams\\nResources\\nAsana Guide\\nSupport\\nIntegrations\\nPartners\\nAsana Community\\nDevelopers & API\\nDeutsch\\nEnglish\\nEspañol\\nFrançais\\nPortuguês\\n日本語\\nTerms & Privacy\\n!function(e){e(function(){if(!AsanaHelpers.specialPlatform())try{e(\".signup-email-page-builder:first-of-type\").focus()}catch(e){}})}(jQuery)\\nLog in\\nUse Google Account\\nor\\nEmail Address\\nPassword\\nForgot password?\\nDon’t have an account? Sign up\\nSign up\\nPlease use your work email address, so we can connect you with your team in Asana.\\nSign up\\n$(function(){$(\".signup-submit-modal-signup\").keyup(function(i){13==i.keyCode&&$(this).click()}),$(\".signup-email-modal-signup\").on(\"keydown\",function(){var i=$(this);i.addClass(\"active\"),i.closest(\".signupForm\").find(\".signup-email-modal-signup-not-valid\").fadeOut(500)}),$(\".signup-email-modal-signup\").on(\"keyup\",function(){var i=$(this);i.val().length||i.removeClass(\"active\")})})\\nGo to Asana\\nBy signing up, I agree to the Asana Privacy Policy and Terms of Service.\\nTry Asana Premium for free\\nTeams report that Asana Premium increases their team’s efficiency by 45%. Try it free for 30 days to get access to more powerful features that help you hit your goals.\\nStart free trial\\nSign up\\nPlease use your work email address, so we can connect you with your team in Asana.\\nGet Started\\n$(function(){$(\".signup-submit-modal-get-started\").keyup(function(t){13==t.keyCode&&$(this).click()}),$(\".signup-email-modal-get-started\").on(\"keydown\",function(){var t=$(this);t.addClass(\"active\"),t.closest(\".signupForm\").find(\".signup-email-modal-get-started-not-valid\").fadeOut(500)}),$(\".signup-email-modal-get-started\").on(\"keyup\",function(){var t=$(this);t.val().length||t.removeClass(\"active\")})})\\nGo to Asana\\nBy signing up, I agree to the Asana Privacy Policy and Terms of Service.\\nStart your free trial\\nPlease use your work email address so we can connect you with your team in Asana.\\nStart Free Trial\\n$(function(){$(\".signup-submit-modal-try\").keyup(function(i){13==i.keyCode&&$(this).click()}),$(\".signup-email-modal-try\").on(\"keydown\",function(){var i=$(this);i.addClass(\"active\"),i.closest(\".signupForm\").find(\".signup-email-modal-try-not-valid\").fadeOut(500)}),$(\".signup-email-modal-try\").on(\"keyup\",function(){var i=$(this);i.val().length||i.removeClass(\"active\")})})\\nStart Free Trial\\nAlready using Asana?\\u2028Log in to activate your free trial of Asana Premium.\\nBy signing up, I agree to the Asana Privacy Policy and Terms of Service.\\nStart your free trial\\nPlease use your work email address so we can connect you with your team in Asana.\\nStart Free Trial\\n$(function(){$(\".signup-submit-modal-trial\").keyup(function(i){13==i.keyCode&&$(this).click()}),$(\".signup-email-modal-trial\").on(\"keydown\",function(){var i=$(this);i.addClass(\"active\"),i.closest(\".signupForm\").find(\".signup-email-modal-trial-not-valid\").fadeOut(500)}),$(\".signup-email-modal-trial\").on(\"keyup\",function(){var i=$(this);i.val().length||i.removeClass(\"active\")})})\\nStart Free Trial\\nBy signing up, I agree to the Asana Privacy Policy and Terms of Service.\\nBuy Now\\nPlease use your work email address, so we can connect you with your team in Asana.\\nGet Started\\n$(function(){$(\".signup-submit-modal-buy\").keyup(function(i){13==i.keyCode&&$(this).click()}),$(\".signup-email-modal-buy\").on(\"keydown\",function(){var i=$(this);i.addClass(\"active\"),i.closest(\".signupForm\").find(\".signup-email-modal-buy-not-valid\").fadeOut(500)}),$(\".signup-email-modal-buy\").on(\"keyup\",function(){var i=$(this);i.val().length||i.removeClass(\"active\")})})\\nGo to Asana\\nBy signing up, I agree to the Asana Privacy Policy and Terms of Service.\\nEnter a work email address\\nThis email looks like a personal email address. If you want to be connected with your team, please use your work email address.\\nEnter a work email address\\nor\\nContinue with my email\\nWhy are we asking?\\nAsana is built for teams to track their work, and the only way to auto-connect with other people in your company is by signing up with your work email address. Learn more\\nOops, we couldn’t sign you up!\\nWe tried, but there was a problem creating your account. Please close this window and try again!\\nHey there, we’ve already met!\\nLooks like you already have an account. Please sign in.\\nUse Google Account\\nLooks like you already have an account. Please sign in.\\nEmail Address\\nPassword\\nForgot password?\\nTry Asana Premium for free\\nTeams report that Asana Premium increases their team’s efficiency by 45%. Try it free for 30 days to get access to more powerful features that help you hit your goals.\\nStart free trial\\nAdd link to workspace\\nAdd link to\\nworkspace\\nError&colon; Please select a workspace before adding link\\nSorry, we don’t support this browser\\nAsana doesn’t work with the internet browser you are currently using. Please sign up using one of these supported browsers instead.\\nPlease login or sign up for Asana to calculate your price\\nUse Google Account\\nor\\nEmail Address\\nPassword\\nForgot password?\\nDon’t have an account? Sign up\\n'"
      ]
     },
     "execution_count": 104,
     "metadata": {},
     "output_type": "execute_result"
    }
   ],
   "source": [
    "bod_sub"
   ]
  },
  {
   "cell_type": "code",
   "execution_count": 80,
   "metadata": {},
   "outputs": [],
   "source": [
    "# nlp = spacy.load('en')"
   ]
  },
  {
   "cell_type": "code",
   "execution_count": 81,
   "metadata": {},
   "outputs": [],
   "source": [
    "# import pytextrank\n",
    "# import sys"
   ]
  },
  {
   "cell_type": "code",
   "execution_count": 105,
   "metadata": {},
   "outputs": [],
   "source": [
    "regex = re.compile(r'.\\s+')"
   ]
  },
  {
   "cell_type": "code",
   "execution_count": 113,
   "metadata": {},
   "outputs": [],
   "source": [
    "bod_stripped = bod_sub.replace('.\\n', '. ')"
   ]
  },
  {
   "cell_type": "code",
   "execution_count": 114,
   "metadata": {},
   "outputs": [],
   "source": [
    "stripped_newlines = bod_stripped.replace('\\n', '. ')"
   ]
  },
  {
   "cell_type": "code",
   "execution_count": 115,
   "metadata": {},
   "outputs": [],
   "source": [
    "stripped_newlines = stripped_newlines.strip()\n",
    "stripped_newlines;"
   ]
  },
  {
   "cell_type": "code",
   "execution_count": 116,
   "metadata": {},
   "outputs": [],
   "source": [
    "stripped = stripped_newlines.split('. ')"
   ]
  },
  {
   "cell_type": "code",
   "execution_count": 117,
   "metadata": {},
   "outputs": [],
   "source": [
    "stripped = [(strip + '.') for strip in stripped]"
   ]
  },
  {
   "cell_type": "code",
   "execution_count": 118,
   "metadata": {},
   "outputs": [],
   "source": [
    "stripped_arr = []\n",
    "\n",
    "for strip in stripped:\n",
    "    if \"function\" not in strip:\n",
    "        stripped_arr.append(strip)\n",
    "        "
   ]
  },
  {
   "cell_type": "code",
   "execution_count": 119,
   "metadata": {},
   "outputs": [
    {
     "data": {
      "text/plain": [
       "['.',\n",
       " 'We use cookies to give you the best possible experience on our website.',\n",
       " 'By continuing to browse this site, you give consent for cookies to be used.',\n",
       " 'For more details, please read our Cookie Policy.',\n",
       " 'Tour.',\n",
       " 'Product.',\n",
       " 'Pricing.',\n",
       " 'Contact Sales .',\n",
       " 'Request Info.',\n",
       " 'View Demo.',\n",
       " 'Learn more .',\n",
       " 'Security.',\n",
       " 'Integrations.',\n",
       " 'Admin controls.',\n",
       " 'Log In.',\n",
       " 'Get Started.',\n",
       " 'Go to Asana.',\n",
       " 'Product.',\n",
       " 'Customers.',\n",
       " 'Pricing.',\n",
       " 'Jobs.',\n",
       " 'Asana Blog.',\n",
       " 'Wavelength.',\n",
       " 'Asana Guide.',\n",
       " 'Get Started.',\n",
       " 'Log In.',\n",
       " 'Our Company.',\n",
       " 'We’re empowering teams to do great things together.',\n",
       " 'Asana’s mission is to help humanity thrive by enabling all teams to work together effortlessly.',\n",
       " 'We’re changing how teams work together.',\n",
       " 'Think back to the last time you were deep in the zone—time flew by and the work flowed through you almost effortlessly.',\n",
       " 'That’s how working together should be.',\n",
       " 'Instead, information is scattered and responsibilities are unclear.',\n",
       " 'We try to cut through the chaos with endless meetings and micromanagement, but we end up with less time and not much more clarity.',\n",
       " 'Work shouldn’t be chaos.',\n",
       " 'At Asana, we’re building a place where everything from the most immediate details to the big picture are organized.',\n",
       " 'With Asana, each person knows what they should be doing and why.',\n",
       " 'This clarity, transparency, and focus allows teams to collaborate with less friction and produce great results.We believe coordination should be as effortless between people as it is between our own brains and bodies, that people should be appreciated, and love what they do.',\n",
       " 'By empowering all teams to work together, we help humanity thrive.',\n",
       " 'Get to know Asana.',\n",
       " 'We stay connected through our shared mission and values.',\n",
       " 'Focus on our mission.',\n",
       " 'We continually ground in why we’re building Asana: to help all teams work together effortlessly.',\n",
       " 'We attempt to establish a direct line between that purpose and our day-to-day work.',\n",
       " 'We answer strategic conflicts by asking the question: which choice maximizes the success of our mission?.',\n",
       " 'Embrace mindfulness and equanimity.',\n",
       " 'We start with awareness.',\n",
       " 'We let go of stories we’re telling ourselves about heroes, victims, and villains, and we accept wherever we are.',\n",
       " 'We reflect on our past experiences and we act intentionally.',\n",
       " 'Practice balance in all things, including balance.',\n",
       " 'Though it is tempting to pick an extreme point of view or compromise between two poles, the best outcomes often require incorporating elements of each extreme or, better yet, transcending them altogether through synthesis.',\n",
       " 'Clarify who’s doing what by when, how, and why.',\n",
       " 'A fundamental problem with modern work is that too much time is spent trying to figure out what’s going on.',\n",
       " 'We try to make it as easy as possible for teams to have the information they need to excel at their work.',\n",
       " 'Take and give full responsibility.',\n",
       " 'Asana is an experiment in the idea that the responsibility should be distributed among a great team of peers that respect and trust each other, so we proactively build relationships and seek to understand each other.',\n",
       " 'We let go when we’re not the Directly Responsible Individual, and we take action when we are.',\n",
       " 'We empower each other.',\n",
       " 'Be real with yourself and others.',\n",
       " 'We take our commitments to each other seriously.',\n",
       " 'We admit when we’re wrong.',\n",
       " 'We treat ourselves as whole people at work.',\n",
       " 'We feel our feelings all the way through and we’re not afraid to give constructive feedback or disagree.',\n",
       " 'We embrace reality.',\n",
       " 'Create and play together.',\n",
       " 'We are co-creating Asana together, and we’re playful while we do it.',\n",
       " 'We maintain an attitude of curiosity, fearlessness, and creativity around tough problems.',\n",
       " 'We embrace failure as learning and celebrate iteration.',\n",
       " 'We don’t hide from our quirks.',\n",
       " 'We appreciate each other and don’t take success for granted.',\n",
       " 'We’re all about results.',\n",
       " 'We’re building a product that empowers teams to track their work—and produce great results.',\n",
       " 'See how it works.',\n",
       " 'We’re proud of what we’ve achieved—Asana is already one of the fastest-growing SaaS companies ever.',\n",
       " 'See what people are saying.',\n",
       " 'We’re even more proud of what our customers have accomplished with Asana, and we’re excited to empower new teams every day.',\n",
       " 'See what teams do with Asana.',\n",
       " 'Let’s do great things together.',\n",
       " 'Join our team.',\n",
       " 'Explore Asana.',\n",
       " 'Asana is the easiest way for teams to track their projects and tasks, so they can get results.',\n",
       " 'Marketing Campaign.',\n",
       " 'Product Launch.',\n",
       " 'Company Goals.',\n",
       " 'Mission to the Moon.',\n",
       " 'Organize your work.',\n",
       " 'Help your team hit their deadlines.',\n",
       " 'Hit your deadline.',\n",
       " 'Have actionable conversations.',\n",
       " 'Attach files to your work.',\n",
       " 'View work at a glance.',\n",
       " 'Track your progress.',\n",
       " 'Work on the go.',\n",
       " 'Run successful programs, every time.',\n",
       " 'Map out each step.',\n",
       " 'Know who’s got the ball.',\n",
       " 'Launch on time.',\n",
       " 'Keep everyone up-to-date.',\n",
       " 'Store work in one place.',\n",
       " 'Track dates and milestones.',\n",
       " 'See what’s on track, and what isn’t.',\n",
       " 'Stay connected, wherever you are.',\n",
       " 'Ready, set, launch!.',\n",
       " 'Map out priorities.',\n",
       " 'Determine the right point person.',\n",
       " 'Make a plan to hit your goals.',\n",
       " 'Share info and give updates.',\n",
       " 'Attach important files.',\n",
       " 'Keep an eye on important dates.',\n",
       " 'Track company progress.',\n",
       " 'Stay in the loop.',\n",
       " 'Hit your goals.',\n",
       " 'Get ready for the mission.',\n",
       " 'Know who’s in charge.',\n",
       " 'Map out each step.',\n",
       " 'Make sure all systems are a go.',\n",
       " 'Tie it all together.',\n",
       " 'Keep your eye on the prize.',\n",
       " 'Track your progress.',\n",
       " 'Work from anywhere.',\n",
       " '3, 2, 1… blastoff!.',\n",
       " 'Organize your work.',\n",
       " 'Set clear tasks and milestones to give your team clarity on what needs to be done.',\n",
       " 'Get Started.',\n",
       " 'Contact Sales.',\n",
       " 'Help your team hit their deadlines.',\n",
       " 'Let each marketer know exactly what work they’re responsible for with clear assignees and due dates.',\n",
       " 'Get Started.',\n",
       " 'Contact Sales.',\n",
       " 'Hit your deadline.',\n",
       " 'Map out your campaign plan to visualize how all the pieces fit together, spot potential issues, and keep work on track.',\n",
       " 'Get Started.',\n",
       " 'Contact Sales.',\n",
       " 'Have actionable conversations.',\n",
       " 'Ask questions or give updates with the work that’s being done, so conversations turn into actions.',\n",
       " 'Get Started.',\n",
       " 'Contact Sales.',\n",
       " 'Attach files to your work.',\n",
       " 'Tie shared docs, design files, and budget spreadsheets together so your team isn’t searching for info.',\n",
       " 'Get Started.',\n",
       " 'Contact Sales.',\n",
       " 'View work at a glance.',\n",
       " 'Look at work on a calendar to keep an eye on timing and rally around important dates.',\n",
       " 'Get Started.',\n",
       " 'Contact Sales.',\n",
       " 'Track your progress.',\n",
       " 'Keep up to date on project progress and quickly spot when things are off track.',\n",
       " '.',\n",
       " 'Get Started.',\n",
       " 'Contact Sales.',\n",
       " 'Work on the go.',\n",
       " 'Whether you’re meeting with a vendor, at a conference, or out of office, stay connected with Asana for mobile.',\n",
       " 'Get Started.',\n",
       " 'Contact Sales.',\n",
       " 'Run successful programs, every time.',\n",
       " 'Asana helps marketing teams plan, manage, track, and launch initiatives that engage their audience.',\n",
       " 'Get Started.',\n",
       " 'Contact Sales.',\n",
       " 'Map out each step.',\n",
       " 'Map out critical steps—from development to launch—so everyone has clarity on the  roadmap.',\n",
       " 'Get Started.',\n",
       " 'Contact Sales.',\n",
       " 'Know who’s got the ball.',\n",
       " 'Give clear owners and due dates for each piece of the launch, so you can release on   time.',\n",
       " 'Get Started.',\n",
       " 'Contact Sales.',\n",
       " 'Launch on time.',\n",
       " 'See how the pieces of your plan fit together so you can make adjustments and keep work on track.',\n",
       " 'Get Started.',\n",
       " 'Contact Sales.',\n",
       " 'Keep everyone up-to-date.',\n",
       " 'Make sure important updates and conversations don’t get buried in email threads by connecting them to your work.',\n",
       " 'Get Started.',\n",
       " 'Contact Sales.',\n",
       " 'Store work in one place.',\n",
       " 'Attach files to your project, so everyone knows where to find the correct info.',\n",
       " 'Get Started.',\n",
       " 'Contact Sales.',\n",
       " 'Track dates and milestones.',\n",
       " 'Keep an eye on important dates by viewing launch plans on a calendar.',\n",
       " 'Get Started.',\n",
       " 'Contact Sales.',\n",
       " 'See what’s on track, and what isn’t.',\n",
       " 'See how work is progressing to make sure you’re on track to hit your deadlines and  goals.',\n",
       " 'Get Started.',\n",
       " 'Contact Sales.',\n",
       " 'Stay connected, wherever you are.',\n",
       " 'Stay up to date on how your launch is progressing no matter where you are with Asana for  mobile.',\n",
       " 'Get Started.',\n",
       " 'Contact Sales.',\n",
       " 'Ready, set, launch!.',\n",
       " 'Asana helps product teams hit deadlines—so they can launch great products.',\n",
       " 'Get Started.',\n",
       " 'Contact Sales.',\n",
       " 'Map out priorities.',\n",
       " 'Create tasks for each goal so everyone has visibility into company-wide objectives.',\n",
       " 'Get Started.',\n",
       " 'Contact Sales.',\n",
       " 'Determine the right point person.',\n",
       " 'Assign each goal to the appropriate person, so everyone knows who’s responsible, and who to go to with questions.',\n",
       " 'Get Started.',\n",
       " 'Contact Sales.',\n",
       " 'Make a plan to hit your goals.',\n",
       " 'See how each milestone ladders up to your goals so you can feel confident you’ll hit your targets.',\n",
       " 'Get Started.',\n",
       " 'Contact Sales.',\n",
       " 'Share info and give updates.',\n",
       " 'Keep stakeholders up to date on the latest info and progress, with updates and comments tied directly to your goals.',\n",
       " 'Get Started.',\n",
       " 'Contact Sales.',\n",
       " 'Attach important files.',\n",
       " 'Integrate Asana with your file sharing tools to keep all your important docs in one place.',\n",
       " 'Get Started.',\n",
       " 'Contact Sales.',\n",
       " 'Keep an eye on important dates.',\n",
       " 'Look at your initiative deadlines and milestones on a calendar to make sure you’ve nailed the timing.',\n",
       " 'Get Started.',\n",
       " 'Contact Sales.',\n",
       " 'Track company progress.',\n",
       " 'Understand what objectives are on track, and what needs your attention so you can hit your goals.',\n",
       " 'Get Started.',\n",
       " 'Contact Sales.',\n",
       " 'Stay in the loop.',\n",
       " 'Get updates and weigh in on important decisions wherever you are, with Asana for mobile.',\n",
       " 'Get Started.',\n",
       " 'Contact Sales.',\n",
       " 'Hit your goals.',\n",
       " 'Asana gives your team visibility into your organization’s goals, so everyone stays focused on what matters most.',\n",
       " 'Get Started.',\n",
       " 'Contact Sales.',\n",
       " 'Get ready for the mission.',\n",
       " 'Map out each step of your mission, so you don’t forget anything as you shoot for the stars.',\n",
       " 'Get Started.',\n",
       " 'Contact Sales.',\n",
       " 'Know who’s in charge.',\n",
       " 'Assign clear owners for each task, so your pilot, commander, and flight engineer know what they need to do.',\n",
       " 'Get Started.',\n",
       " 'Contact Sales.',\n",
       " 'Map out each step.',\n",
       " 'Create a launch plan so you can chart your course from start to finish, share it with your team, and modify it as conditions change.',\n",
       " 'Get Started.',\n",
       " 'Contact Sales.',\n",
       " 'Make sure all systems are a go.',\n",
       " 'Ask important questions, have conversations, and give status updates to get your crew ready for launch day.',\n",
       " 'Get Started.',\n",
       " 'Contact Sales.',\n",
       " 'Tie it all together.',\n",
       " 'Connect Asana to the other tools you need for your mission, so all your information lives in the same place.',\n",
       " 'Get Started.',\n",
       " 'Contact Sales.',\n",
       " 'Keep your eye on the prize.',\n",
       " 'View each milestone on a calendar, so you can track important dates leading up to takeoff.',\n",
       " 'Get Started.',\n",
       " 'Contact Sales.',\n",
       " 'Track your progress.',\n",
       " 'See what’s on track, and what isn’t, so you can be sure you’re ready for launch day.',\n",
       " 'Get Started.',\n",
       " 'Contact Sales.',\n",
       " 'Work from anywhere.',\n",
       " 'Keep up to date whether you’re in the office or on the moon, just make sure you have internet connection!.',\n",
       " 'Get Started.',\n",
       " 'Contact Sales.',\n",
       " '3, 2, 1… blastoff!.',\n",
       " 'With Asana, your crew can shoot for the moon, and get there.',\n",
       " 'All it takes is one small step….',\n",
       " 'Get Started.',\n",
       " 'Contact Sales.',\n",
       " 'Asana.',\n",
       " 'Home.',\n",
       " 'Product.',\n",
       " 'Customers.',\n",
       " 'Pricing.',\n",
       " 'Customer Success.',\n",
       " 'Asana Blog.',\n",
       " 'About Us.',\n",
       " 'Company.',\n",
       " 'Leadership.',\n",
       " 'Diversity.',\n",
       " 'Jobs.',\n",
       " 'Press.',\n",
       " 'Wavelength.',\n",
       " 'Workflow Solutions.',\n",
       " 'Project Management.',\n",
       " 'Agile.',\n",
       " 'Task Management.',\n",
       " 'Reporting.',\n",
       " 'Work Management.',\n",
       " 'See All Uses.',\n",
       " 'Team Solutions.',\n",
       " 'Engineering.',\n",
       " 'Designers.',\n",
       " 'Sales.',\n",
       " 'HR.',\n",
       " 'Marketing.',\n",
       " 'See All Teams.',\n",
       " 'Resources.',\n",
       " 'Asana Guide.',\n",
       " 'Support.',\n",
       " 'Integrations.',\n",
       " 'Partners.',\n",
       " 'Asana Community.',\n",
       " 'Developers & API.',\n",
       " 'Deutsch.',\n",
       " 'English.',\n",
       " 'Español.',\n",
       " 'Français.',\n",
       " 'Português.',\n",
       " '日本語.',\n",
       " 'Terms & Privacy.',\n",
       " 'Log in.',\n",
       " 'Use Google Account.',\n",
       " 'or.',\n",
       " 'Email Address.',\n",
       " 'Password.',\n",
       " 'Forgot password?.',\n",
       " 'Don’t have an account? Sign up.',\n",
       " 'Sign up.',\n",
       " 'Please use your work email address, so we can connect you with your team in Asana.',\n",
       " 'Sign up.',\n",
       " 'Go to Asana.',\n",
       " 'By signing up, I agree to the Asana Privacy Policy and Terms of Service.',\n",
       " 'Try Asana Premium for free.',\n",
       " 'Teams report that Asana Premium increases their team’s efficiency by 45%.',\n",
       " 'Try it free for 30 days to get access to more powerful features that help you hit your goals.',\n",
       " 'Start free trial.',\n",
       " 'Sign up.',\n",
       " 'Please use your work email address, so we can connect you with your team in Asana.',\n",
       " 'Get Started.',\n",
       " 'Go to Asana.',\n",
       " 'By signing up, I agree to the Asana Privacy Policy and Terms of Service.',\n",
       " 'Start your free trial.',\n",
       " 'Please use your work email address so we can connect you with your team in Asana.',\n",
       " 'Start Free Trial.',\n",
       " 'Start Free Trial.',\n",
       " 'Already using Asana?\\u2028Log in to activate your free trial of Asana Premium.',\n",
       " 'By signing up, I agree to the Asana Privacy Policy and Terms of Service.',\n",
       " 'Start your free trial.',\n",
       " 'Please use your work email address so we can connect you with your team in Asana.',\n",
       " 'Start Free Trial.',\n",
       " 'Start Free Trial.',\n",
       " 'By signing up, I agree to the Asana Privacy Policy and Terms of Service.',\n",
       " 'Buy Now.',\n",
       " 'Please use your work email address, so we can connect you with your team in Asana.',\n",
       " 'Get Started.',\n",
       " 'Go to Asana.',\n",
       " 'By signing up, I agree to the Asana Privacy Policy and Terms of Service.',\n",
       " 'Enter a work email address.',\n",
       " 'This email looks like a personal email address.',\n",
       " 'If you want to be connected with your team, please use your work email address.',\n",
       " 'Enter a work email address.',\n",
       " 'or.',\n",
       " 'Continue with my email.',\n",
       " 'Why are we asking?.',\n",
       " 'Asana is built for teams to track their work, and the only way to auto-connect with other people in your company is by signing up with your work email address.',\n",
       " 'Learn more.',\n",
       " 'Oops, we couldn’t sign you up!.',\n",
       " 'We tried, but there was a problem creating your account.',\n",
       " 'Please close this window and try again!.',\n",
       " 'Hey there, we’ve already met!.',\n",
       " 'Looks like you already have an account.',\n",
       " 'Please sign in.',\n",
       " 'Use Google Account.',\n",
       " 'Looks like you already have an account.',\n",
       " 'Please sign in.',\n",
       " 'Email Address.',\n",
       " 'Password.',\n",
       " 'Forgot password?.',\n",
       " 'Try Asana Premium for free.',\n",
       " 'Teams report that Asana Premium increases their team’s efficiency by 45%.',\n",
       " 'Try it free for 30 days to get access to more powerful features that help you hit your goals.',\n",
       " 'Start free trial.',\n",
       " 'Add link to workspace.',\n",
       " 'Add link to.',\n",
       " 'workspace.',\n",
       " 'Error&colon; Please select a workspace before adding link.',\n",
       " 'Sorry, we don’t support this browser.',\n",
       " 'Asana doesn’t work with the internet browser you are currently using.',\n",
       " 'Please sign up using one of these supported browsers instead.',\n",
       " 'Please login or sign up for Asana to calculate your price.',\n",
       " 'Use Google Account.',\n",
       " 'or.',\n",
       " 'Email Address.',\n",
       " 'Password.',\n",
       " 'Forgot password?.',\n",
       " 'Don’t have an account? Sign up..']"
      ]
     },
     "execution_count": 119,
     "metadata": {},
     "output_type": "execute_result"
    }
   ],
   "source": [
    "stripped_arr"
   ]
  },
  {
   "cell_type": "markdown",
   "metadata": {},
   "source": [
    "### Now, we should work on cleaning the sentences to check to see if they are valid words. "
   ]
  },
  {
   "cell_type": "code",
   "execution_count": 122,
   "metadata": {},
   "outputs": [],
   "source": [
    "cleaned = []\n",
    "for sentence in stripped_arr:\n",
    "    stripped = sentence.split(' ')\n",
    "    if len(stripped) > 3:\n",
    "        cleaned.append(sentence)"
   ]
  },
  {
   "cell_type": "code",
   "execution_count": 123,
   "metadata": {},
   "outputs": [
    {
     "data": {
      "text/plain": [
       "['We use cookies to give you the best possible experience on our website.',\n",
       " 'By continuing to browse this site, you give consent for cookies to be used.',\n",
       " 'For more details, please read our Cookie Policy.',\n",
       " 'We’re empowering teams to do great things together.',\n",
       " 'Asana’s mission is to help humanity thrive by enabling all teams to work together effortlessly.',\n",
       " 'We’re changing how teams work together.',\n",
       " 'Think back to the last time you were deep in the zone—time flew by and the work flowed through you almost effortlessly.',\n",
       " 'That’s how working together should be.',\n",
       " 'Instead, information is scattered and responsibilities are unclear.',\n",
       " 'We try to cut through the chaos with endless meetings and micromanagement, but we end up with less time and not much more clarity.',\n",
       " 'Work shouldn’t be chaos.',\n",
       " 'At Asana, we’re building a place where everything from the most immediate details to the big picture are organized.',\n",
       " 'With Asana, each person knows what they should be doing and why.',\n",
       " 'This clarity, transparency, and focus allows teams to collaborate with less friction and produce great results.We believe coordination should be as effortless between people as it is between our own brains and bodies, that people should be appreciated, and love what they do.',\n",
       " 'By empowering all teams to work together, we help humanity thrive.',\n",
       " 'Get to know Asana.',\n",
       " 'We stay connected through our shared mission and values.',\n",
       " 'Focus on our mission.',\n",
       " 'We continually ground in why we’re building Asana: to help all teams work together effortlessly.',\n",
       " 'We attempt to establish a direct line between that purpose and our day-to-day work.',\n",
       " 'We answer strategic conflicts by asking the question: which choice maximizes the success of our mission?.',\n",
       " 'Embrace mindfulness and equanimity.',\n",
       " 'We start with awareness.',\n",
       " 'We let go of stories we’re telling ourselves about heroes, victims, and villains, and we accept wherever we are.',\n",
       " 'We reflect on our past experiences and we act intentionally.',\n",
       " 'Practice balance in all things, including balance.',\n",
       " 'Though it is tempting to pick an extreme point of view or compromise between two poles, the best outcomes often require incorporating elements of each extreme or, better yet, transcending them altogether through synthesis.',\n",
       " 'Clarify who’s doing what by when, how, and why.',\n",
       " 'A fundamental problem with modern work is that too much time is spent trying to figure out what’s going on.',\n",
       " 'We try to make it as easy as possible for teams to have the information they need to excel at their work.',\n",
       " 'Take and give full responsibility.',\n",
       " 'Asana is an experiment in the idea that the responsibility should be distributed among a great team of peers that respect and trust each other, so we proactively build relationships and seek to understand each other.',\n",
       " 'We let go when we’re not the Directly Responsible Individual, and we take action when we are.',\n",
       " 'We empower each other.',\n",
       " 'Be real with yourself and others.',\n",
       " 'We take our commitments to each other seriously.',\n",
       " 'We admit when we’re wrong.',\n",
       " 'We treat ourselves as whole people at work.',\n",
       " 'We feel our feelings all the way through and we’re not afraid to give constructive feedback or disagree.',\n",
       " 'Create and play together.',\n",
       " 'We are co-creating Asana together, and we’re playful while we do it.',\n",
       " 'We maintain an attitude of curiosity, fearlessness, and creativity around tough problems.',\n",
       " 'We embrace failure as learning and celebrate iteration.',\n",
       " 'We don’t hide from our quirks.',\n",
       " 'We appreciate each other and don’t take success for granted.',\n",
       " 'We’re all about results.',\n",
       " 'We’re building a product that empowers teams to track their work—and produce great results.',\n",
       " 'See how it works.',\n",
       " 'We’re proud of what we’ve achieved—Asana is already one of the fastest-growing SaaS companies ever.',\n",
       " 'See what people are saying.',\n",
       " 'We’re even more proud of what our customers have accomplished with Asana, and we’re excited to empower new teams every day.',\n",
       " 'See what teams do with Asana.',\n",
       " 'Let’s do great things together.',\n",
       " 'Asana is the easiest way for teams to track their projects and tasks, so they can get results.',\n",
       " 'Mission to the Moon.',\n",
       " 'Help your team hit their deadlines.',\n",
       " 'Attach files to your work.',\n",
       " 'View work at a glance.',\n",
       " 'Work on the go.',\n",
       " 'Run successful programs, every time.',\n",
       " 'Map out each step.',\n",
       " 'Know who’s got the ball.',\n",
       " 'Store work in one place.',\n",
       " 'Track dates and milestones.',\n",
       " 'See what’s on track, and what isn’t.',\n",
       " 'Stay connected, wherever you are.',\n",
       " 'Determine the right point person.',\n",
       " 'Make a plan to hit your goals.',\n",
       " 'Share info and give updates.',\n",
       " 'Keep an eye on important dates.',\n",
       " 'Stay in the loop.',\n",
       " 'Get ready for the mission.',\n",
       " 'Know who’s in charge.',\n",
       " 'Map out each step.',\n",
       " 'Make sure all systems are a go.',\n",
       " 'Tie it all together.',\n",
       " 'Keep your eye on the prize.',\n",
       " '3, 2, 1… blastoff!.',\n",
       " 'Set clear tasks and milestones to give your team clarity on what needs to be done.',\n",
       " 'Help your team hit their deadlines.',\n",
       " 'Let each marketer know exactly what work they’re responsible for with clear assignees and due dates.',\n",
       " 'Map out your campaign plan to visualize how all the pieces fit together, spot potential issues, and keep work on track.',\n",
       " 'Ask questions or give updates with the work that’s being done, so conversations turn into actions.',\n",
       " 'Attach files to your work.',\n",
       " 'Tie shared docs, design files, and budget spreadsheets together so your team isn’t searching for info.',\n",
       " 'View work at a glance.',\n",
       " 'Look at work on a calendar to keep an eye on timing and rally around important dates.',\n",
       " 'Keep up to date on project progress and quickly spot when things are off track.',\n",
       " 'Work on the go.',\n",
       " 'Whether you’re meeting with a vendor, at a conference, or out of office, stay connected with Asana for mobile.',\n",
       " 'Run successful programs, every time.',\n",
       " 'Asana helps marketing teams plan, manage, track, and launch initiatives that engage their audience.',\n",
       " 'Map out each step.',\n",
       " 'Map out critical steps—from development to launch—so everyone has clarity on the  roadmap.',\n",
       " 'Know who’s got the ball.',\n",
       " 'Give clear owners and due dates for each piece of the launch, so you can release on   time.',\n",
       " 'See how the pieces of your plan fit together so you can make adjustments and keep work on track.',\n",
       " 'Make sure important updates and conversations don’t get buried in email threads by connecting them to your work.',\n",
       " 'Store work in one place.',\n",
       " 'Attach files to your project, so everyone knows where to find the correct info.',\n",
       " 'Track dates and milestones.',\n",
       " 'Keep an eye on important dates by viewing launch plans on a calendar.',\n",
       " 'See what’s on track, and what isn’t.',\n",
       " 'See how work is progressing to make sure you’re on track to hit your deadlines and  goals.',\n",
       " 'Stay connected, wherever you are.',\n",
       " 'Stay up to date on how your launch is progressing no matter where you are with Asana for  mobile.',\n",
       " 'Asana helps product teams hit deadlines—so they can launch great products.',\n",
       " 'Create tasks for each goal so everyone has visibility into company-wide objectives.',\n",
       " 'Determine the right point person.',\n",
       " 'Assign each goal to the appropriate person, so everyone knows who’s responsible, and who to go to with questions.',\n",
       " 'Make a plan to hit your goals.',\n",
       " 'See how each milestone ladders up to your goals so you can feel confident you’ll hit your targets.',\n",
       " 'Share info and give updates.',\n",
       " 'Keep stakeholders up to date on the latest info and progress, with updates and comments tied directly to your goals.',\n",
       " 'Integrate Asana with your file sharing tools to keep all your important docs in one place.',\n",
       " 'Keep an eye on important dates.',\n",
       " 'Look at your initiative deadlines and milestones on a calendar to make sure you’ve nailed the timing.',\n",
       " 'Understand what objectives are on track, and what needs your attention so you can hit your goals.',\n",
       " 'Stay in the loop.',\n",
       " 'Get updates and weigh in on important decisions wherever you are, with Asana for mobile.',\n",
       " 'Asana gives your team visibility into your organization’s goals, so everyone stays focused on what matters most.',\n",
       " 'Get ready for the mission.',\n",
       " 'Map out each step of your mission, so you don’t forget anything as you shoot for the stars.',\n",
       " 'Know who’s in charge.',\n",
       " 'Assign clear owners for each task, so your pilot, commander, and flight engineer know what they need to do.',\n",
       " 'Map out each step.',\n",
       " 'Create a launch plan so you can chart your course from start to finish, share it with your team, and modify it as conditions change.',\n",
       " 'Make sure all systems are a go.',\n",
       " 'Ask important questions, have conversations, and give status updates to get your crew ready for launch day.',\n",
       " 'Tie it all together.',\n",
       " 'Connect Asana to the other tools you need for your mission, so all your information lives in the same place.',\n",
       " 'Keep your eye on the prize.',\n",
       " 'View each milestone on a calendar, so you can track important dates leading up to takeoff.',\n",
       " 'See what’s on track, and what isn’t, so you can be sure you’re ready for launch day.',\n",
       " 'Keep up to date whether you’re in the office or on the moon, just make sure you have internet connection!.',\n",
       " '3, 2, 1… blastoff!.',\n",
       " 'With Asana, your crew can shoot for the moon, and get there.',\n",
       " 'All it takes is one small step….',\n",
       " 'Don’t have an account? Sign up.',\n",
       " 'Please use your work email address, so we can connect you with your team in Asana.',\n",
       " 'By signing up, I agree to the Asana Privacy Policy and Terms of Service.',\n",
       " 'Try Asana Premium for free.',\n",
       " 'Teams report that Asana Premium increases their team’s efficiency by 45%.',\n",
       " 'Try it free for 30 days to get access to more powerful features that help you hit your goals.',\n",
       " 'Please use your work email address, so we can connect you with your team in Asana.',\n",
       " 'By signing up, I agree to the Asana Privacy Policy and Terms of Service.',\n",
       " 'Start your free trial.',\n",
       " 'Please use your work email address so we can connect you with your team in Asana.',\n",
       " 'Already using Asana?\\u2028Log in to activate your free trial of Asana Premium.',\n",
       " 'By signing up, I agree to the Asana Privacy Policy and Terms of Service.',\n",
       " 'Start your free trial.',\n",
       " 'Please use your work email address so we can connect you with your team in Asana.',\n",
       " 'By signing up, I agree to the Asana Privacy Policy and Terms of Service.',\n",
       " 'Please use your work email address, so we can connect you with your team in Asana.',\n",
       " 'By signing up, I agree to the Asana Privacy Policy and Terms of Service.',\n",
       " 'Enter a work email address.',\n",
       " 'This email looks like a personal email address.',\n",
       " 'If you want to be connected with your team, please use your work email address.',\n",
       " 'Enter a work email address.',\n",
       " 'Continue with my email.',\n",
       " 'Why are we asking?.',\n",
       " 'Asana is built for teams to track their work, and the only way to auto-connect with other people in your company is by signing up with your work email address.',\n",
       " 'Oops, we couldn’t sign you up!.',\n",
       " 'We tried, but there was a problem creating your account.',\n",
       " 'Please close this window and try again!.',\n",
       " 'Hey there, we’ve already met!.',\n",
       " 'Looks like you already have an account.',\n",
       " 'Looks like you already have an account.',\n",
       " 'Try Asana Premium for free.',\n",
       " 'Teams report that Asana Premium increases their team’s efficiency by 45%.',\n",
       " 'Try it free for 30 days to get access to more powerful features that help you hit your goals.',\n",
       " 'Add link to workspace.',\n",
       " 'Error&colon; Please select a workspace before adding link.',\n",
       " 'Sorry, we don’t support this browser.',\n",
       " 'Asana doesn’t work with the internet browser you are currently using.',\n",
       " 'Please sign up using one of these supported browsers instead.',\n",
       " 'Please login or sign up for Asana to calculate your price.',\n",
       " 'Don’t have an account? Sign up..']"
      ]
     },
     "execution_count": 123,
     "metadata": {},
     "output_type": "execute_result"
    }
   ],
   "source": [
    "cleaned"
   ]
  },
  {
   "cell_type": "code",
   "execution_count": null,
   "metadata": {},
   "outputs": [],
   "source": []
  }
 ],
 "metadata": {
  "kernelspec": {
   "display_name": "Python [conda env:py36]",
   "language": "python",
   "name": "conda-env-py36-py"
  },
  "language_info": {
   "codemirror_mode": {
    "name": "ipython",
    "version": 3
   },
   "file_extension": ".py",
   "mimetype": "text/x-python",
   "name": "python",
   "nbconvert_exporter": "python",
   "pygments_lexer": "ipython3",
   "version": "3.6.6"
  }
 },
 "nbformat": 4,
 "nbformat_minor": 2
}
